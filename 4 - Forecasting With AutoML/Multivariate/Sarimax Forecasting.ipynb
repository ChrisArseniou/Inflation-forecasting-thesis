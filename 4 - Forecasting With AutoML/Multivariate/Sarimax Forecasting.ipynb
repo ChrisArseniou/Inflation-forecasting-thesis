{
 "cells": [
  {
   "cell_type": "markdown",
   "id": "bf9eadda",
   "metadata": {},
   "source": [
    "# Ανάπτυξη Sarimax Μοντέλου για την πρόβλεψη του πληθωρισμού του επόμενου εξαμήνου."
   ]
  },
  {
   "cell_type": "code",
   "execution_count": 1,
   "id": "cd554943",
   "metadata": {},
   "outputs": [],
   "source": [
    "# Απαραίτητες Βιβλιοθήκες\n",
    "import warnings\n",
    "warnings.filterwarnings('ignore')\n",
    "import pandas as pd\n",
    "import matplotlib.pyplot as plt\n",
    "import seaborn as sns\n",
    "import numpy as np\n",
    "import statsmodels.api as sm"
   ]
  },
  {
   "cell_type": "code",
   "execution_count": 2,
   "id": "40c0c031",
   "metadata": {},
   "outputs": [
    {
     "data": {
      "text/html": [
       "<div>\n",
       "<style scoped>\n",
       "    .dataframe tbody tr th:only-of-type {\n",
       "        vertical-align: middle;\n",
       "    }\n",
       "\n",
       "    .dataframe tbody tr th {\n",
       "        vertical-align: top;\n",
       "    }\n",
       "\n",
       "    .dataframe thead th {\n",
       "        text-align: right;\n",
       "    }\n",
       "</style>\n",
       "<table border=\"1\" class=\"dataframe\">\n",
       "  <thead>\n",
       "    <tr style=\"text-align: right;\">\n",
       "      <th></th>\n",
       "      <th>Date</th>\n",
       "      <th>Cpi</th>\n",
       "      <th>Food Price Index</th>\n",
       "      <th>Energy Price Index</th>\n",
       "      <th>Hicp</th>\n",
       "      <th>Unemployment Rate</th>\n",
       "      <th>Gdp</th>\n",
       "      <th>Rent Price</th>\n",
       "      <th>House Prices</th>\n",
       "      <th>Lci</th>\n",
       "    </tr>\n",
       "  </thead>\n",
       "  <tbody>\n",
       "    <tr>\n",
       "      <th>0</th>\n",
       "      <td>2001-01-01</td>\n",
       "      <td>0.001806</td>\n",
       "      <td>0.016060</td>\n",
       "      <td>0.111474</td>\n",
       "      <td>0.003837</td>\n",
       "      <td>0.109312</td>\n",
       "      <td>0.000000</td>\n",
       "      <td>0.000000</td>\n",
       "      <td>0.315560</td>\n",
       "      <td>0.000000</td>\n",
       "    </tr>\n",
       "    <tr>\n",
       "      <th>1</th>\n",
       "      <td>2001-02-01</td>\n",
       "      <td>0.000000</td>\n",
       "      <td>0.011688</td>\n",
       "      <td>0.097947</td>\n",
       "      <td>0.000000</td>\n",
       "      <td>0.110324</td>\n",
       "      <td>0.005330</td>\n",
       "      <td>0.006099</td>\n",
       "      <td>0.328415</td>\n",
       "      <td>0.017084</td>\n",
       "    </tr>\n",
       "    <tr>\n",
       "      <th>2</th>\n",
       "      <td>2001-03-01</td>\n",
       "      <td>0.036626</td>\n",
       "      <td>0.008565</td>\n",
       "      <td>0.077760</td>\n",
       "      <td>0.042722</td>\n",
       "      <td>0.110324</td>\n",
       "      <td>0.010660</td>\n",
       "      <td>0.012198</td>\n",
       "      <td>0.341270</td>\n",
       "      <td>0.034167</td>\n",
       "    </tr>\n",
       "    <tr>\n",
       "      <th>3</th>\n",
       "      <td>2001-04-01</td>\n",
       "      <td>0.054424</td>\n",
       "      <td>0.003301</td>\n",
       "      <td>0.082858</td>\n",
       "      <td>0.063443</td>\n",
       "      <td>0.118421</td>\n",
       "      <td>0.015991</td>\n",
       "      <td>0.018297</td>\n",
       "      <td>0.354126</td>\n",
       "      <td>0.051251</td>\n",
       "    </tr>\n",
       "    <tr>\n",
       "      <th>4</th>\n",
       "      <td>2001-05-01</td>\n",
       "      <td>0.062677</td>\n",
       "      <td>0.009190</td>\n",
       "      <td>0.087208</td>\n",
       "      <td>0.072909</td>\n",
       "      <td>0.117409</td>\n",
       "      <td>0.029163</td>\n",
       "      <td>0.025907</td>\n",
       "      <td>0.352209</td>\n",
       "      <td>0.054301</td>\n",
       "    </tr>\n",
       "  </tbody>\n",
       "</table>\n",
       "</div>"
      ],
      "text/plain": [
       "         Date       Cpi  Food Price Index  Energy Price Index      Hicp  \\\n",
       "0  2001-01-01  0.001806          0.016060            0.111474  0.003837   \n",
       "1  2001-02-01  0.000000          0.011688            0.097947  0.000000   \n",
       "2  2001-03-01  0.036626          0.008565            0.077760  0.042722   \n",
       "3  2001-04-01  0.054424          0.003301            0.082858  0.063443   \n",
       "4  2001-05-01  0.062677          0.009190            0.087208  0.072909   \n",
       "\n",
       "   Unemployment Rate       Gdp  Rent Price  House Prices       Lci  \n",
       "0           0.109312  0.000000    0.000000      0.315560  0.000000  \n",
       "1           0.110324  0.005330    0.006099      0.328415  0.017084  \n",
       "2           0.110324  0.010660    0.012198      0.341270  0.034167  \n",
       "3           0.118421  0.015991    0.018297      0.354126  0.051251  \n",
       "4           0.117409  0.029163    0.025907      0.352209  0.054301  "
      ]
     },
     "execution_count": 2,
     "metadata": {},
     "output_type": "execute_result"
    }
   ],
   "source": [
    "# Ανάγνωση Δεδομένων\n",
    "greece_inflation = pd.read_csv('Inflation and Parameters.csv')\n",
    "greece_inflation.head()"
   ]
  },
  {
   "cell_type": "code",
   "execution_count": 3,
   "id": "94ceb955",
   "metadata": {},
   "outputs": [
    {
     "name": "stdout",
     "output_type": "stream",
     "text": [
      "Nan Values:\n",
      "Date                  0\n",
      "Cpi                   0\n",
      "Food Price Index      0\n",
      "Energy Price Index    0\n",
      "Hicp                  0\n",
      "Unemployment Rate     0\n",
      "Gdp                   0\n",
      "Rent Price            0\n",
      "House Prices          0\n",
      "Lci                   0\n",
      "dtype: int64\n"
     ]
    }
   ],
   "source": [
    "# Έλεγχος για nan τιμές\n",
    "print(\"Nan Values:\\n\" + str(greece_inflation.isna().sum()))"
   ]
  },
  {
   "cell_type": "code",
   "execution_count": 4,
   "id": "7f9b28ee",
   "metadata": {},
   "outputs": [
    {
     "data": {
      "text/html": [
       "<div>\n",
       "<style scoped>\n",
       "    .dataframe tbody tr th:only-of-type {\n",
       "        vertical-align: middle;\n",
       "    }\n",
       "\n",
       "    .dataframe tbody tr th {\n",
       "        vertical-align: top;\n",
       "    }\n",
       "\n",
       "    .dataframe thead th {\n",
       "        text-align: right;\n",
       "    }\n",
       "</style>\n",
       "<table border=\"1\" class=\"dataframe\">\n",
       "  <thead>\n",
       "    <tr style=\"text-align: right;\">\n",
       "      <th></th>\n",
       "      <th>Date</th>\n",
       "      <th>Cpi</th>\n",
       "      <th>Food Price Index</th>\n",
       "      <th>Energy Price Index</th>\n",
       "      <th>Hicp</th>\n",
       "      <th>Unemployment Rate</th>\n",
       "      <th>Gdp</th>\n",
       "      <th>Rent Price</th>\n",
       "      <th>House Prices</th>\n",
       "      <th>Lci</th>\n",
       "      <th>Actual</th>\n",
       "    </tr>\n",
       "  </thead>\n",
       "  <tbody>\n",
       "    <tr>\n",
       "      <th>0</th>\n",
       "      <td>2001-01-01</td>\n",
       "      <td>0.001806</td>\n",
       "      <td>0.016060</td>\n",
       "      <td>0.111474</td>\n",
       "      <td>0.003837</td>\n",
       "      <td>0.109312</td>\n",
       "      <td>0.000000</td>\n",
       "      <td>0.000000</td>\n",
       "      <td>0.315560</td>\n",
       "      <td>0.000000</td>\n",
       "      <td>0.026825</td>\n",
       "    </tr>\n",
       "    <tr>\n",
       "      <th>1</th>\n",
       "      <td>2001-02-01</td>\n",
       "      <td>0.000000</td>\n",
       "      <td>0.011688</td>\n",
       "      <td>0.097947</td>\n",
       "      <td>0.000000</td>\n",
       "      <td>0.110324</td>\n",
       "      <td>0.005330</td>\n",
       "      <td>0.006099</td>\n",
       "      <td>0.328415</td>\n",
       "      <td>0.017084</td>\n",
       "      <td>0.027341</td>\n",
       "    </tr>\n",
       "    <tr>\n",
       "      <th>2</th>\n",
       "      <td>2001-03-01</td>\n",
       "      <td>0.036626</td>\n",
       "      <td>0.008565</td>\n",
       "      <td>0.077760</td>\n",
       "      <td>0.042722</td>\n",
       "      <td>0.110324</td>\n",
       "      <td>0.010660</td>\n",
       "      <td>0.012198</td>\n",
       "      <td>0.341270</td>\n",
       "      <td>0.034167</td>\n",
       "      <td>0.063451</td>\n",
       "    </tr>\n",
       "    <tr>\n",
       "      <th>3</th>\n",
       "      <td>2001-04-01</td>\n",
       "      <td>0.054424</td>\n",
       "      <td>0.003301</td>\n",
       "      <td>0.082858</td>\n",
       "      <td>0.063443</td>\n",
       "      <td>0.118421</td>\n",
       "      <td>0.015991</td>\n",
       "      <td>0.018297</td>\n",
       "      <td>0.354126</td>\n",
       "      <td>0.051251</td>\n",
       "      <td>0.069641</td>\n",
       "    </tr>\n",
       "    <tr>\n",
       "      <th>4</th>\n",
       "      <td>2001-05-01</td>\n",
       "      <td>0.062677</td>\n",
       "      <td>0.009190</td>\n",
       "      <td>0.087208</td>\n",
       "      <td>0.072909</td>\n",
       "      <td>0.117409</td>\n",
       "      <td>0.029163</td>\n",
       "      <td>0.025907</td>\n",
       "      <td>0.352209</td>\n",
       "      <td>0.054301</td>\n",
       "      <td>0.071705</td>\n",
       "    </tr>\n",
       "  </tbody>\n",
       "</table>\n",
       "</div>"
      ],
      "text/plain": [
       "         Date       Cpi  Food Price Index  Energy Price Index      Hicp  \\\n",
       "0  2001-01-01  0.001806          0.016060            0.111474  0.003837   \n",
       "1  2001-02-01  0.000000          0.011688            0.097947  0.000000   \n",
       "2  2001-03-01  0.036626          0.008565            0.077760  0.042722   \n",
       "3  2001-04-01  0.054424          0.003301            0.082858  0.063443   \n",
       "4  2001-05-01  0.062677          0.009190            0.087208  0.072909   \n",
       "\n",
       "   Unemployment Rate       Gdp  Rent Price  House Prices       Lci    Actual  \n",
       "0           0.109312  0.000000    0.000000      0.315560  0.000000  0.026825  \n",
       "1           0.110324  0.005330    0.006099      0.328415  0.017084  0.027341  \n",
       "2           0.110324  0.010660    0.012198      0.341270  0.034167  0.063451  \n",
       "3           0.118421  0.015991    0.018297      0.354126  0.051251  0.069641  \n",
       "4           0.117409  0.029163    0.025907      0.352209  0.054301  0.071705  "
      ]
     },
     "execution_count": 4,
     "metadata": {},
     "output_type": "execute_result"
    }
   ],
   "source": [
    "# Κάνουμε shift τα δεδομένα έξι μήνες πίσω, και τα αποθηκεύουμε στην στήλη Actual.\n",
    "# Αυτό γίνεται για να δημιουργηθούν sequences για την εκπαίδευση του μοντέλου.\n",
    "steps=-6\n",
    "greece_inflation_for_prediction= greece_inflation.copy()\n",
    "greece_inflation_for_prediction[\"Actual\"]= greece_inflation_for_prediction[\"Cpi\"].shift(steps)\n",
    "greece_inflation_for_prediction.head()"
   ]
  },
  {
   "cell_type": "code",
   "execution_count": 5,
   "id": "a96bab89",
   "metadata": {},
   "outputs": [],
   "source": [
    "# αφαίρεση nan τιμών\n",
    "greece_inflation_for_prediction = greece_inflation_for_prediction.dropna()"
   ]
  },
  {
   "cell_type": "code",
   "execution_count": 6,
   "id": "03381eb0",
   "metadata": {},
   "outputs": [],
   "source": [
    "# ορισμός της στήλης Date ως Index\n",
    "greece_inflation_for_prediction.index = greece_inflation_for_prediction[\"Date\"]"
   ]
  },
  {
   "cell_type": "code",
   "execution_count": 7,
   "id": "b379bf70",
   "metadata": {},
   "outputs": [
    {
     "data": {
      "text/html": [
       "<div>\n",
       "<style scoped>\n",
       "    .dataframe tbody tr th:only-of-type {\n",
       "        vertical-align: middle;\n",
       "    }\n",
       "\n",
       "    .dataframe tbody tr th {\n",
       "        vertical-align: top;\n",
       "    }\n",
       "\n",
       "    .dataframe thead th {\n",
       "        text-align: right;\n",
       "    }\n",
       "</style>\n",
       "<table border=\"1\" class=\"dataframe\">\n",
       "  <thead>\n",
       "    <tr style=\"text-align: right;\">\n",
       "      <th></th>\n",
       "      <th>Date</th>\n",
       "      <th>Cpi</th>\n",
       "      <th>Food Price Index</th>\n",
       "      <th>Energy Price Index</th>\n",
       "      <th>Hicp</th>\n",
       "      <th>Unemployment Rate</th>\n",
       "      <th>Gdp</th>\n",
       "      <th>Rent Price</th>\n",
       "      <th>House Prices</th>\n",
       "      <th>Lci</th>\n",
       "      <th>Actual</th>\n",
       "    </tr>\n",
       "    <tr>\n",
       "      <th>Date</th>\n",
       "      <th></th>\n",
       "      <th></th>\n",
       "      <th></th>\n",
       "      <th></th>\n",
       "      <th></th>\n",
       "      <th></th>\n",
       "      <th></th>\n",
       "      <th></th>\n",
       "      <th></th>\n",
       "      <th></th>\n",
       "      <th></th>\n",
       "    </tr>\n",
       "  </thead>\n",
       "  <tbody>\n",
       "    <tr>\n",
       "      <th>2001-01-01</th>\n",
       "      <td>2001-01-01</td>\n",
       "      <td>0.001806</td>\n",
       "      <td>0.016060</td>\n",
       "      <td>0.111474</td>\n",
       "      <td>0.003837</td>\n",
       "      <td>0.109312</td>\n",
       "      <td>0.000000</td>\n",
       "      <td>0.000000</td>\n",
       "      <td>0.315560</td>\n",
       "      <td>0.000000</td>\n",
       "      <td>0.026825</td>\n",
       "    </tr>\n",
       "    <tr>\n",
       "      <th>2001-02-01</th>\n",
       "      <td>2001-02-01</td>\n",
       "      <td>0.000000</td>\n",
       "      <td>0.011688</td>\n",
       "      <td>0.097947</td>\n",
       "      <td>0.000000</td>\n",
       "      <td>0.110324</td>\n",
       "      <td>0.005330</td>\n",
       "      <td>0.006099</td>\n",
       "      <td>0.328415</td>\n",
       "      <td>0.017084</td>\n",
       "      <td>0.027341</td>\n",
       "    </tr>\n",
       "    <tr>\n",
       "      <th>2001-03-01</th>\n",
       "      <td>2001-03-01</td>\n",
       "      <td>0.036626</td>\n",
       "      <td>0.008565</td>\n",
       "      <td>0.077760</td>\n",
       "      <td>0.042722</td>\n",
       "      <td>0.110324</td>\n",
       "      <td>0.010660</td>\n",
       "      <td>0.012198</td>\n",
       "      <td>0.341270</td>\n",
       "      <td>0.034167</td>\n",
       "      <td>0.063451</td>\n",
       "    </tr>\n",
       "    <tr>\n",
       "      <th>2001-04-01</th>\n",
       "      <td>2001-04-01</td>\n",
       "      <td>0.054424</td>\n",
       "      <td>0.003301</td>\n",
       "      <td>0.082858</td>\n",
       "      <td>0.063443</td>\n",
       "      <td>0.118421</td>\n",
       "      <td>0.015991</td>\n",
       "      <td>0.018297</td>\n",
       "      <td>0.354126</td>\n",
       "      <td>0.051251</td>\n",
       "      <td>0.069641</td>\n",
       "    </tr>\n",
       "    <tr>\n",
       "      <th>2001-05-01</th>\n",
       "      <td>2001-05-01</td>\n",
       "      <td>0.062677</td>\n",
       "      <td>0.009190</td>\n",
       "      <td>0.087208</td>\n",
       "      <td>0.072909</td>\n",
       "      <td>0.117409</td>\n",
       "      <td>0.029163</td>\n",
       "      <td>0.025907</td>\n",
       "      <td>0.352209</td>\n",
       "      <td>0.054301</td>\n",
       "      <td>0.071705</td>\n",
       "    </tr>\n",
       "  </tbody>\n",
       "</table>\n",
       "</div>"
      ],
      "text/plain": [
       "                  Date       Cpi  Food Price Index  Energy Price Index  \\\n",
       "Date                                                                     \n",
       "2001-01-01  2001-01-01  0.001806          0.016060            0.111474   \n",
       "2001-02-01  2001-02-01  0.000000          0.011688            0.097947   \n",
       "2001-03-01  2001-03-01  0.036626          0.008565            0.077760   \n",
       "2001-04-01  2001-04-01  0.054424          0.003301            0.082858   \n",
       "2001-05-01  2001-05-01  0.062677          0.009190            0.087208   \n",
       "\n",
       "                Hicp  Unemployment Rate       Gdp  Rent Price  House Prices  \\\n",
       "Date                                                                          \n",
       "2001-01-01  0.003837           0.109312  0.000000    0.000000      0.315560   \n",
       "2001-02-01  0.000000           0.110324  0.005330    0.006099      0.328415   \n",
       "2001-03-01  0.042722           0.110324  0.010660    0.012198      0.341270   \n",
       "2001-04-01  0.063443           0.118421  0.015991    0.018297      0.354126   \n",
       "2001-05-01  0.072909           0.117409  0.029163    0.025907      0.352209   \n",
       "\n",
       "                 Lci    Actual  \n",
       "Date                            \n",
       "2001-01-01  0.000000  0.026825  \n",
       "2001-02-01  0.017084  0.027341  \n",
       "2001-03-01  0.034167  0.063451  \n",
       "2001-04-01  0.051251  0.069641  \n",
       "2001-05-01  0.054301  0.071705  "
      ]
     },
     "execution_count": 7,
     "metadata": {},
     "output_type": "execute_result"
    }
   ],
   "source": [
    "greece_inflation_for_prediction.head()"
   ]
  },
  {
   "cell_type": "code",
   "execution_count": 8,
   "id": "7b9717e4",
   "metadata": {},
   "outputs": [
    {
     "data": {
      "text/plain": [
       "Text(0.5, 1.0, 'Cpi Index')"
      ]
     },
     "execution_count": 8,
     "metadata": {},
     "output_type": "execute_result"
    },
    {
     "data": {
      "image/png": "[encoded data removed]",
      "text/plain": [
       "<Figure size 1500x200 with 1 Axes>"
      ]
     },
     "metadata": {},
     "output_type": "display_data"
    }
   ],
   "source": [
    "greece_inflation_for_prediction[\"Cpi\"].plot(color=\"green\", figsize=(15,2))\n",
    "plt.title(\"Cpi Index\")"
   ]
  },
  {
   "cell_type": "code",
   "execution_count": 9,
   "id": "cb1732da",
   "metadata": {},
   "outputs": [
    {
     "data": {
      "text/html": [
       "<div>\n",
       "<style scoped>\n",
       "    .dataframe tbody tr th:only-of-type {\n",
       "        vertical-align: middle;\n",
       "    }\n",
       "\n",
       "    .dataframe tbody tr th {\n",
       "        vertical-align: top;\n",
       "    }\n",
       "\n",
       "    .dataframe thead th {\n",
       "        text-align: right;\n",
       "    }\n",
       "</style>\n",
       "<table border=\"1\" class=\"dataframe\">\n",
       "  <thead>\n",
       "    <tr style=\"text-align: right;\">\n",
       "      <th></th>\n",
       "      <th>Unemployment Rate</th>\n",
       "      <th>Actual</th>\n",
       "    </tr>\n",
       "    <tr>\n",
       "      <th>Date</th>\n",
       "      <th></th>\n",
       "      <th></th>\n",
       "    </tr>\n",
       "  </thead>\n",
       "  <tbody>\n",
       "    <tr>\n",
       "      <th>2001-01-01</th>\n",
       "      <td>0.109312</td>\n",
       "      <td>0.026825</td>\n",
       "    </tr>\n",
       "    <tr>\n",
       "      <th>2001-02-01</th>\n",
       "      <td>0.110324</td>\n",
       "      <td>0.027341</td>\n",
       "    </tr>\n",
       "    <tr>\n",
       "      <th>2001-03-01</th>\n",
       "      <td>0.110324</td>\n",
       "      <td>0.063451</td>\n",
       "    </tr>\n",
       "    <tr>\n",
       "      <th>2001-04-01</th>\n",
       "      <td>0.118421</td>\n",
       "      <td>0.069641</td>\n",
       "    </tr>\n",
       "    <tr>\n",
       "      <th>2001-05-01</th>\n",
       "      <td>0.117409</td>\n",
       "      <td>0.071705</td>\n",
       "    </tr>\n",
       "  </tbody>\n",
       "</table>\n",
       "</div>"
      ],
      "text/plain": [
       "            Unemployment Rate    Actual\n",
       "Date                                   \n",
       "2001-01-01           0.109312  0.026825\n",
       "2001-02-01           0.110324  0.027341\n",
       "2001-03-01           0.110324  0.063451\n",
       "2001-04-01           0.118421  0.069641\n",
       "2001-05-01           0.117409  0.071705"
      ]
     },
     "execution_count": 9,
     "metadata": {},
     "output_type": "execute_result"
    }
   ],
   "source": [
    "# επιλογή των στηλών που έχουν άμεση επίδραση στον πληθωρισμό, και τις actual τιμές του Cpi\n",
    "cols = ['Unemployment Rate', 'Actual']\n",
    "X = greece_inflation_for_prediction[cols]\n",
    "X.head()"
   ]
  },
  {
   "cell_type": "code",
   "execution_count": 10,
   "id": "83ec2036",
   "metadata": {},
   "outputs": [
    {
     "data": {
      "text/html": [
       "<div>\n",
       "<style scoped>\n",
       "    .dataframe tbody tr th:only-of-type {\n",
       "        vertical-align: middle;\n",
       "    }\n",
       "\n",
       "    .dataframe tbody tr th {\n",
       "        vertical-align: top;\n",
       "    }\n",
       "\n",
       "    .dataframe thead th {\n",
       "        text-align: right;\n",
       "    }\n",
       "</style>\n",
       "<table border=\"1\" class=\"dataframe\">\n",
       "  <thead>\n",
       "    <tr style=\"text-align: right;\">\n",
       "      <th></th>\n",
       "      <th>Cpi</th>\n",
       "    </tr>\n",
       "    <tr>\n",
       "      <th>Date</th>\n",
       "      <th></th>\n",
       "    </tr>\n",
       "  </thead>\n",
       "  <tbody>\n",
       "    <tr>\n",
       "      <th>2001-01-01</th>\n",
       "      <td>0.001806</td>\n",
       "    </tr>\n",
       "    <tr>\n",
       "      <th>2001-02-01</th>\n",
       "      <td>0.000000</td>\n",
       "    </tr>\n",
       "    <tr>\n",
       "      <th>2001-03-01</th>\n",
       "      <td>0.036626</td>\n",
       "    </tr>\n",
       "    <tr>\n",
       "      <th>2001-04-01</th>\n",
       "      <td>0.054424</td>\n",
       "    </tr>\n",
       "    <tr>\n",
       "      <th>2001-05-01</th>\n",
       "      <td>0.062677</td>\n",
       "    </tr>\n",
       "  </tbody>\n",
       "</table>\n",
       "</div>"
      ],
      "text/plain": [
       "                 Cpi\n",
       "Date                \n",
       "2001-01-01  0.001806\n",
       "2001-02-01  0.000000\n",
       "2001-03-01  0.036626\n",
       "2001-04-01  0.054424\n",
       "2001-05-01  0.062677"
      ]
     },
     "execution_count": 10,
     "metadata": {},
     "output_type": "execute_result"
    }
   ],
   "source": [
    "# επιλογή των τιμών του Cpi που είναι 6 μήνες μπροστά, τις οποίες ορίζουμε ως target value\n",
    "cols = ['Cpi']\n",
    "y = greece_inflation_for_prediction[cols]\n",
    "y.head()"
   ]
  },
  {
   "cell_type": "code",
   "execution_count": 11,
   "id": "e1557908",
   "metadata": {},
   "outputs": [],
   "source": [
    "# split δεδομένων σε train και test\n",
    "train_size=int(len(greece_inflation) * 0.7)\n",
    "test_size = int(len(greece_inflation)) - train_size\n",
    "\n",
    "train_X, train_y = X[:train_size].dropna(), y[:train_size].dropna()\n",
    "test_X, test_y = X[train_size:].dropna(), y[train_size:].dropna()"
   ]
  },
  {
   "cell_type": "code",
   "execution_count": 12,
   "id": "0cfb929e",
   "metadata": {},
   "outputs": [
    {
     "data": {
      "text/html": [
       "<div>\n",
       "<style scoped>\n",
       "    .dataframe tbody tr th:only-of-type {\n",
       "        vertical-align: middle;\n",
       "    }\n",
       "\n",
       "    .dataframe tbody tr th {\n",
       "        vertical-align: top;\n",
       "    }\n",
       "\n",
       "    .dataframe thead th {\n",
       "        text-align: right;\n",
       "    }\n",
       "</style>\n",
       "<table border=\"1\" class=\"dataframe\">\n",
       "  <thead>\n",
       "    <tr style=\"text-align: right;\">\n",
       "      <th></th>\n",
       "      <th>Unemployment Rate</th>\n",
       "      <th>Actual</th>\n",
       "    </tr>\n",
       "    <tr>\n",
       "      <th>Date</th>\n",
       "      <th></th>\n",
       "      <th></th>\n",
       "    </tr>\n",
       "  </thead>\n",
       "  <tbody>\n",
       "    <tr>\n",
       "      <th>2001-01-01</th>\n",
       "      <td>0.109312</td>\n",
       "      <td>0.026825</td>\n",
       "    </tr>\n",
       "    <tr>\n",
       "      <th>2001-02-01</th>\n",
       "      <td>0.110324</td>\n",
       "      <td>0.027341</td>\n",
       "    </tr>\n",
       "    <tr>\n",
       "      <th>2001-03-01</th>\n",
       "      <td>0.110324</td>\n",
       "      <td>0.063451</td>\n",
       "    </tr>\n",
       "    <tr>\n",
       "      <th>2001-04-01</th>\n",
       "      <td>0.118421</td>\n",
       "      <td>0.069641</td>\n",
       "    </tr>\n",
       "    <tr>\n",
       "      <th>2001-05-01</th>\n",
       "      <td>0.117409</td>\n",
       "      <td>0.071705</td>\n",
       "    </tr>\n",
       "  </tbody>\n",
       "</table>\n",
       "</div>"
      ],
      "text/plain": [
       "            Unemployment Rate    Actual\n",
       "Date                                   \n",
       "2001-01-01           0.109312  0.026825\n",
       "2001-02-01           0.110324  0.027341\n",
       "2001-03-01           0.110324  0.063451\n",
       "2001-04-01           0.118421  0.069641\n",
       "2001-05-01           0.117409  0.071705"
      ]
     },
     "execution_count": 12,
     "metadata": {},
     "output_type": "execute_result"
    }
   ],
   "source": [
    "train_X.head()"
   ]
  },
  {
   "cell_type": "code",
   "execution_count": 13,
   "id": "30d63150",
   "metadata": {},
   "outputs": [
    {
     "data": {
      "text/html": [
       "<div>\n",
       "<style scoped>\n",
       "    .dataframe tbody tr th:only-of-type {\n",
       "        vertical-align: middle;\n",
       "    }\n",
       "\n",
       "    .dataframe tbody tr th {\n",
       "        vertical-align: top;\n",
       "    }\n",
       "\n",
       "    .dataframe thead th {\n",
       "        text-align: right;\n",
       "    }\n",
       "</style>\n",
       "<table border=\"1\" class=\"dataframe\">\n",
       "  <thead>\n",
       "    <tr style=\"text-align: right;\">\n",
       "      <th></th>\n",
       "      <th>Cpi</th>\n",
       "    </tr>\n",
       "    <tr>\n",
       "      <th>Date</th>\n",
       "      <th></th>\n",
       "    </tr>\n",
       "  </thead>\n",
       "  <tbody>\n",
       "    <tr>\n",
       "      <th>2001-01-01</th>\n",
       "      <td>0.001806</td>\n",
       "    </tr>\n",
       "    <tr>\n",
       "      <th>2001-02-01</th>\n",
       "      <td>0.000000</td>\n",
       "    </tr>\n",
       "    <tr>\n",
       "      <th>2001-03-01</th>\n",
       "      <td>0.036626</td>\n",
       "    </tr>\n",
       "    <tr>\n",
       "      <th>2001-04-01</th>\n",
       "      <td>0.054424</td>\n",
       "    </tr>\n",
       "    <tr>\n",
       "      <th>2001-05-01</th>\n",
       "      <td>0.062677</td>\n",
       "    </tr>\n",
       "  </tbody>\n",
       "</table>\n",
       "</div>"
      ],
      "text/plain": [
       "                 Cpi\n",
       "Date                \n",
       "2001-01-01  0.001806\n",
       "2001-02-01  0.000000\n",
       "2001-03-01  0.036626\n",
       "2001-04-01  0.054424\n",
       "2001-05-01  0.062677"
      ]
     },
     "execution_count": 13,
     "metadata": {},
     "output_type": "execute_result"
    }
   ],
   "source": [
    "train_y.head()"
   ]
  },
  {
   "cell_type": "code",
   "execution_count": 14,
   "id": "1fd0a297",
   "metadata": {},
   "outputs": [
    {
     "data": {
      "image/png": "[encoded data removed]",
      "text/plain": [
       "<Figure size 640x480 with 1 Axes>"
      ]
     },
     "metadata": {},
     "output_type": "display_data"
    }
   ],
   "source": [
    "# σχεδιασμός γραφήματος των autocorrelation τιμών\n",
    "fig=sm.tsa.graphics.plot_acf(test_y, lags=50)\n",
    "plt.show()"
   ]
  },
  {
   "cell_type": "code",
   "execution_count": 15,
   "id": "657dadf2",
   "metadata": {},
   "outputs": [
    {
     "data": {
      "image/png": "[encoded data removed]",
      "text/plain": [
       "<Figure size 640x480 with 1 Axes>"
      ]
     },
     "metadata": {},
     "output_type": "display_data"
    }
   ],
   "source": [
    "# σχεδιασμός γραφήματος των partial autocorrelation τιμών\n",
    "fig=sm.tsa.graphics.plot_pacf(test_y, lags=30)\n",
    "plt.show()"
   ]
  },
  {
   "cell_type": "code",
   "execution_count": 16,
   "id": "e7609636",
   "metadata": {},
   "outputs": [
    {
     "name": "stderr",
     "output_type": "stream",
     "text": [
      "C:\\Users\\chris\\anaconda4\\lib\\site-packages\\statsmodels\\tsa\\base\\tsa_model.py:471: ValueWarning: No frequency information was provided, so inferred frequency MS will be used.\n",
      "  self._init_dates(dates, freq)\n",
      "C:\\Users\\chris\\anaconda4\\lib\\site-packages\\statsmodels\\tsa\\base\\tsa_model.py:471: ValueWarning: No frequency information was provided, so inferred frequency MS will be used.\n",
      "  self._init_dates(dates, freq)\n"
     ]
    }
   ],
   "source": [
    "# εφαρμογή του SARIMAX μοντέλου στα train και test δεδομένα\n",
    "from statsmodels.tsa.statespace.sarimax import SARIMAX\n",
    "model= SARIMAX(train_y, train_X, order=(0,0,0),enforce_invertibility=False, enforce_stationarity=False)"
   ]
  },
  {
   "cell_type": "code",
   "execution_count": 17,
   "id": "19dc539a",
   "metadata": {},
   "outputs": [],
   "source": [
    "# fit μοντέλου\n",
    "results= model.fit()"
   ]
  },
  {
   "cell_type": "code",
   "execution_count": 18,
   "id": "61a0dbe9",
   "metadata": {},
   "outputs": [],
   "source": [
    "# δημιουργία προβλέψεων\n",
    "predictions= results.predict(start = train_size, end=train_size+test_size+(steps)-1,exog=test_X)"
   ]
  },
  {
   "cell_type": "code",
   "execution_count": 22,
   "id": "697ff4a1",
   "metadata": {},
   "outputs": [],
   "source": [
    "forecast_1= results.forecast(steps=test_size+steps, exog=test_X)"
   ]
  },
  {
   "cell_type": "code",
   "execution_count": 23,
   "id": "64507ac0",
   "metadata": {},
   "outputs": [],
   "source": [
    "act= pd.DataFrame(greece_inflation_for_prediction.iloc[train_size:, 1])"
   ]
  },
  {
   "cell_type": "code",
   "execution_count": 24,
   "id": "46faccbc",
   "metadata": {},
   "outputs": [
    {
     "data": {
      "text/html": [
       "<div>\n",
       "<style scoped>\n",
       "    .dataframe tbody tr th:only-of-type {\n",
       "        vertical-align: middle;\n",
       "    }\n",
       "\n",
       "    .dataframe tbody tr th {\n",
       "        vertical-align: top;\n",
       "    }\n",
       "\n",
       "    .dataframe thead th {\n",
       "        text-align: right;\n",
       "    }\n",
       "</style>\n",
       "<table border=\"1\" class=\"dataframe\">\n",
       "  <thead>\n",
       "    <tr style=\"text-align: right;\">\n",
       "      <th></th>\n",
       "      <th>Cpi</th>\n",
       "    </tr>\n",
       "    <tr>\n",
       "      <th>Date</th>\n",
       "      <th></th>\n",
       "    </tr>\n",
       "  </thead>\n",
       "  <tbody>\n",
       "    <tr>\n",
       "      <th>2015-12-01</th>\n",
       "      <td>0.718855</td>\n",
       "    </tr>\n",
       "    <tr>\n",
       "      <th>2016-01-01</th>\n",
       "      <td>0.668558</td>\n",
       "    </tr>\n",
       "    <tr>\n",
       "      <th>2016-02-01</th>\n",
       "      <td>0.657983</td>\n",
       "    </tr>\n",
       "    <tr>\n",
       "      <th>2016-03-01</th>\n",
       "      <td>0.691772</td>\n",
       "    </tr>\n",
       "    <tr>\n",
       "      <th>2016-04-01</th>\n",
       "      <td>0.710859</td>\n",
       "    </tr>\n",
       "  </tbody>\n",
       "</table>\n",
       "</div>"
      ],
      "text/plain": [
       "                 Cpi\n",
       "Date                \n",
       "2015-12-01  0.718855\n",
       "2016-01-01  0.668558\n",
       "2016-02-01  0.657983\n",
       "2016-03-01  0.691772\n",
       "2016-04-01  0.710859"
      ]
     },
     "execution_count": 24,
     "metadata": {},
     "output_type": "execute_result"
    }
   ],
   "source": [
    "act.head()"
   ]
  },
  {
   "cell_type": "code",
   "execution_count": 25,
   "id": "0fb28a14",
   "metadata": {},
   "outputs": [],
   "source": [
    "# δημιουργία dataframe που περιέχει τα actual και predicted δεδομένα\n",
    "predictions=pd.DataFrame(predictions)\n",
    "predictions.reset_index(drop=True, inplace=True)\n",
    "predictions.index=test_X.index\n",
    "predictions['Actual'] = act['Cpi']\n",
    "predictions.rename(columns={'predicted_mean':'Pred'}, inplace=True)"
   ]
  },
  {
   "cell_type": "code",
   "execution_count": 26,
   "id": "1dc9a771",
   "metadata": {},
   "outputs": [
    {
     "data": {
      "text/html": [
       "<div>\n",
       "<style scoped>\n",
       "    .dataframe tbody tr th:only-of-type {\n",
       "        vertical-align: middle;\n",
       "    }\n",
       "\n",
       "    .dataframe tbody tr th {\n",
       "        vertical-align: top;\n",
       "    }\n",
       "\n",
       "    .dataframe thead th {\n",
       "        text-align: right;\n",
       "    }\n",
       "</style>\n",
       "<table border=\"1\" class=\"dataframe\">\n",
       "  <thead>\n",
       "    <tr style=\"text-align: right;\">\n",
       "      <th></th>\n",
       "      <th>Pred</th>\n",
       "      <th>Actual</th>\n",
       "    </tr>\n",
       "    <tr>\n",
       "      <th>Date</th>\n",
       "      <th></th>\n",
       "      <th></th>\n",
       "    </tr>\n",
       "  </thead>\n",
       "  <tbody>\n",
       "    <tr>\n",
       "      <th>2015-12-01</th>\n",
       "      <td>0.726712</td>\n",
       "      <td>0.718855</td>\n",
       "    </tr>\n",
       "    <tr>\n",
       "      <th>2016-01-01</th>\n",
       "      <td>0.689431</td>\n",
       "      <td>0.668558</td>\n",
       "    </tr>\n",
       "    <tr>\n",
       "      <th>2016-02-01</th>\n",
       "      <td>0.680501</td>\n",
       "      <td>0.657983</td>\n",
       "    </tr>\n",
       "    <tr>\n",
       "      <th>2016-03-01</th>\n",
       "      <td>0.720819</td>\n",
       "      <td>0.691772</td>\n",
       "    </tr>\n",
       "    <tr>\n",
       "      <th>2016-04-01</th>\n",
       "      <td>0.727608</td>\n",
       "      <td>0.710859</td>\n",
       "    </tr>\n",
       "    <tr>\n",
       "      <th>...</th>\n",
       "      <td>...</td>\n",
       "      <td>...</td>\n",
       "    </tr>\n",
       "    <tr>\n",
       "      <th>2021-06-01</th>\n",
       "      <td>0.794187</td>\n",
       "      <td>0.749291</td>\n",
       "    </tr>\n",
       "    <tr>\n",
       "      <th>2021-07-01</th>\n",
       "      <td>0.784888</td>\n",
       "      <td>0.713180</td>\n",
       "    </tr>\n",
       "    <tr>\n",
       "      <th>2021-08-01</th>\n",
       "      <td>0.809311</td>\n",
       "      <td>0.709827</td>\n",
       "    </tr>\n",
       "    <tr>\n",
       "      <th>2021-09-01</th>\n",
       "      <td>0.875125</td>\n",
       "      <td>0.770699</td>\n",
       "    </tr>\n",
       "    <tr>\n",
       "      <th>2021-10-01</th>\n",
       "      <td>0.929707</td>\n",
       "      <td>0.810936</td>\n",
       "    </tr>\n",
       "  </tbody>\n",
       "</table>\n",
       "<p>71 rows × 2 columns</p>\n",
       "</div>"
      ],
      "text/plain": [
       "                Pred    Actual\n",
       "Date                          \n",
       "2015-12-01  0.726712  0.718855\n",
       "2016-01-01  0.689431  0.668558\n",
       "2016-02-01  0.680501  0.657983\n",
       "2016-03-01  0.720819  0.691772\n",
       "2016-04-01  0.727608  0.710859\n",
       "...              ...       ...\n",
       "2021-06-01  0.794187  0.749291\n",
       "2021-07-01  0.784888  0.713180\n",
       "2021-08-01  0.809311  0.709827\n",
       "2021-09-01  0.875125  0.770699\n",
       "2021-10-01  0.929707  0.810936\n",
       "\n",
       "[71 rows x 2 columns]"
      ]
     },
     "execution_count": 26,
     "metadata": {},
     "output_type": "execute_result"
    }
   ],
   "source": [
    "predictions"
   ]
  },
  {
   "cell_type": "code",
   "execution_count": 27,
   "id": "554fdcee",
   "metadata": {
    "scrolled": false
   },
   "outputs": [
    {
     "data": {
      "text/plain": [
       "<AxesSubplot:xlabel='Date'>"
      ]
     },
     "execution_count": 27,
     "metadata": {},
     "output_type": "execute_result"
    },
    {
     "data": {
      "image/png": "[encoded data removed]",
      "text/plain": [
       "<Figure size 2000x800 with 1 Axes>"
      ]
     },
     "metadata": {},
     "output_type": "display_data"
    }
   ],
   "source": [
    "# plot των actual και predicted τιμών\n",
    "predictions[\"Actual\"].plot(figsize=(20,8), legend=True, color=\"blue\")\n",
    "predictions[\"Pred\"].plot(legend=True, color=\"red\", figsize=(20,8))"
   ]
  },
  {
   "cell_type": "code",
   "execution_count": 28,
   "id": "82c28025",
   "metadata": {},
   "outputs": [],
   "source": [
    "# Ίδιο plot με διαφορετικό τρόπο\n",
    "forecast = pd.DataFrame(forecast_1)\n",
    "forecast.reset_index(drop=True, inplace=True)\n",
    "forecast.index=test_X.index\n",
    "forecast[\"Actual\"] = greece_inflation_for_prediction.iloc[train_size:, 1]\n",
    "forecast.rename(columns={'predicted_mean':\"Forecast\"}, inplace=True)"
   ]
  },
  {
   "cell_type": "code",
   "execution_count": 29,
   "id": "e675548a",
   "metadata": {},
   "outputs": [
    {
     "data": {
      "text/html": [
       "<div>\n",
       "<style scoped>\n",
       "    .dataframe tbody tr th:only-of-type {\n",
       "        vertical-align: middle;\n",
       "    }\n",
       "\n",
       "    .dataframe tbody tr th {\n",
       "        vertical-align: top;\n",
       "    }\n",
       "\n",
       "    .dataframe thead th {\n",
       "        text-align: right;\n",
       "    }\n",
       "</style>\n",
       "<table border=\"1\" class=\"dataframe\">\n",
       "  <thead>\n",
       "    <tr style=\"text-align: right;\">\n",
       "      <th></th>\n",
       "      <th>Forecast</th>\n",
       "      <th>Actual</th>\n",
       "    </tr>\n",
       "    <tr>\n",
       "      <th>Date</th>\n",
       "      <th></th>\n",
       "      <th></th>\n",
       "    </tr>\n",
       "  </thead>\n",
       "  <tbody>\n",
       "    <tr>\n",
       "      <th>2015-12-01</th>\n",
       "      <td>0.726712</td>\n",
       "      <td>0.718855</td>\n",
       "    </tr>\n",
       "    <tr>\n",
       "      <th>2016-01-01</th>\n",
       "      <td>0.689431</td>\n",
       "      <td>0.668558</td>\n",
       "    </tr>\n",
       "    <tr>\n",
       "      <th>2016-02-01</th>\n",
       "      <td>0.680501</td>\n",
       "      <td>0.657983</td>\n",
       "    </tr>\n",
       "    <tr>\n",
       "      <th>2016-03-01</th>\n",
       "      <td>0.720819</td>\n",
       "      <td>0.691772</td>\n",
       "    </tr>\n",
       "    <tr>\n",
       "      <th>2016-04-01</th>\n",
       "      <td>0.727608</td>\n",
       "      <td>0.710859</td>\n",
       "    </tr>\n",
       "    <tr>\n",
       "      <th>...</th>\n",
       "      <td>...</td>\n",
       "      <td>...</td>\n",
       "    </tr>\n",
       "    <tr>\n",
       "      <th>2021-06-01</th>\n",
       "      <td>0.794187</td>\n",
       "      <td>0.749291</td>\n",
       "    </tr>\n",
       "    <tr>\n",
       "      <th>2021-07-01</th>\n",
       "      <td>0.784888</td>\n",
       "      <td>0.713180</td>\n",
       "    </tr>\n",
       "    <tr>\n",
       "      <th>2021-08-01</th>\n",
       "      <td>0.809311</td>\n",
       "      <td>0.709827</td>\n",
       "    </tr>\n",
       "    <tr>\n",
       "      <th>2021-09-01</th>\n",
       "      <td>0.875125</td>\n",
       "      <td>0.770699</td>\n",
       "    </tr>\n",
       "    <tr>\n",
       "      <th>2021-10-01</th>\n",
       "      <td>0.929707</td>\n",
       "      <td>0.810936</td>\n",
       "    </tr>\n",
       "  </tbody>\n",
       "</table>\n",
       "<p>71 rows × 2 columns</p>\n",
       "</div>"
      ],
      "text/plain": [
       "            Forecast    Actual\n",
       "Date                          \n",
       "2015-12-01  0.726712  0.718855\n",
       "2016-01-01  0.689431  0.668558\n",
       "2016-02-01  0.680501  0.657983\n",
       "2016-03-01  0.720819  0.691772\n",
       "2016-04-01  0.727608  0.710859\n",
       "...              ...       ...\n",
       "2021-06-01  0.794187  0.749291\n",
       "2021-07-01  0.784888  0.713180\n",
       "2021-08-01  0.809311  0.709827\n",
       "2021-09-01  0.875125  0.770699\n",
       "2021-10-01  0.929707  0.810936\n",
       "\n",
       "[71 rows x 2 columns]"
      ]
     },
     "execution_count": 29,
     "metadata": {},
     "output_type": "execute_result"
    }
   ],
   "source": [
    "forecast"
   ]
  },
  {
   "cell_type": "code",
   "execution_count": 30,
   "id": "8e62648f",
   "metadata": {},
   "outputs": [
    {
     "data": {
      "text/plain": [
       "<AxesSubplot:xlabel='Date'>"
      ]
     },
     "execution_count": 30,
     "metadata": {},
     "output_type": "execute_result"
    },
    {
     "data": {
      "image/png": "[encoded data removed]",
      "text/plain": [
       "<Figure size 640x480 with 1 Axes>"
      ]
     },
     "metadata": {},
     "output_type": "display_data"
    }
   ],
   "source": [
    "forecast[\"Forecast\"].plot(legend=True, color='red')\n",
    "forecast[\"Actual\"].plot(legend=True, color='blue')"
   ]
  },
  {
   "cell_type": "code",
   "execution_count": 31,
   "id": "711f0fd6",
   "metadata": {},
   "outputs": [
    {
     "data": {
      "text/plain": [
       "0.029291554342029947"
      ]
     },
     "execution_count": 31,
     "metadata": {},
     "output_type": "execute_result"
    }
   ],
   "source": [
    "# Υπολιγισμός MAE για την αξιολόγιση της πρόβλεψης\n",
    "from statsmodels.tools.eval_measures import meanabs\n",
    "error = meanabs(predictions[\"Pred\"], predictions[\"Actual\"])\n",
    "error"
   ]
  }
 ],
 "metadata": {
  "kernelspec": {
   "display_name": "Python 3 (ipykernel)",
   "language": "python",
   "name": "python3"
  },
  "language_info": {
   "codemirror_mode": {
    "name": "ipython",
    "version": 3
   },
   "file_extension": ".py",
   "mimetype": "text/x-python",
   "name": "python",
   "nbconvert_exporter": "python",
   "pygments_lexer": "ipython3",
   "version": "3.9.13"
  },
  "latex_envs": {
   "LaTeX_envs_menu_present": true,
   "autoclose": false,
   "autocomplete": true,
   "bibliofile": "biblio.bib",
   "cite_by": "apalike",
   "current_citInitial": 1,
   "eqLabelWithNumbers": true,
   "eqNumInitial": 1,
   "hotkeys": {
    "equation": "Ctrl-E",
    "itemize": "Ctrl-I"
   },
   "labels_anchors": false,
   "latex_user_defs": false,
   "report_style_numbering": false,
   "user_envs_cfg": false
  }
 },
 "nbformat": 4,
 "nbformat_minor": 5
}
