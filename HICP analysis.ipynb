{
 "cells": [
  {
   "cell_type": "code",
   "execution_count": 1,
   "id": "2bf2fa2e",
   "metadata": {},
   "outputs": [],
   "source": [
    "import pandas as pd\n",
    "import numpy as np\n",
    "import matplotlib.pyplot as plt\n",
    "import seaborn as sns\n",
    "from sklearn import model_selection\n",
    "from sklearn.linear_model import LogisticRegression\n",
    "from sklearn.model_selection import train_test_split\n",
    "%matplotlib inline    \n",
    "import warnings\n",
    "warnings.filterwarnings('ignore')\n",
    "plt.style.use('seaborn-darkgrid') \n",
    "from pylab import rcParams  \n",
    "import plotly.graph_objs as go\n",
    "import cufflinks\n",
    "from statsmodels.tsa.stattools import adfuller"
   ]
  },
  {
   "cell_type": "code",
   "execution_count": 2,
   "id": "bce4938e",
   "metadata": {},
   "outputs": [],
   "source": [
    "# αποθηκευσε το αρχειο xls σε κειμενο χωρισμενο σε κομματα με καταληξη .csv\n",
    "#df= pd.read_csv('corn monthly prices since 2002.csv')\n",
    "#df.head(5)"
   ]
  },
  {
   "cell_type": "markdown",
   "id": "51577437",
   "metadata": {},
   "source": [
    "# Ο Εναρμονισμένος Δείκτης Τιμών Καταναλωτή (HICP) "
   ]
  },
  {
   "cell_type": "markdown",
   "id": "279647e2",
   "metadata": {},
   "source": [
    "Οι Εν.ΔΤΚ χρησιμεύουν για την παρακολούθηση ενός από τα κριτήρια εισόδου στην Οικονομική και Νομισματική Ένωση. Συγκεκριμένα, οι Εν.ΔΤΚ υπολογίζονται για να παρέχουν συγκρίσιμα στοιχεία για τις διεθνείς συγκρίσεις του πληθωρισμού και, ειδικότερα, για την εκτίμηση του κριτηρίου σύγκλισης, της σταθερότητας των τιμών, όπως απαιτείται από τη Συνθήκη για την ΟΝΕ. Σε κάθε Κράτος-μέλος της ΕΕ καταρτίζεται ο Εν.ΔΤΚ, χρησιμοποιώντας μια εναρμονισμένη μεθοδολογία, η οποία αναπτύχθηκε από Ευρωπαίους στατιστικούς, υπό την καθοδήγηση της Eurostat. Σύμφωνα με τη Συνθήκη του Μάαστριχτ, ο σκοπός του Εν.ΔΤΚ είναι η μέτρηση του πληθωρισμού μέσω του δείκτη τιμών καταναλωτή, επί μιας συγκρίσιμης βάσης, λαμβάνοντας υπόψη διαφορές σε εθνικούς ορισμούς. Ο Εν.ΔΤΚ βασίζεται στις τιμές αγαθών και υπηρεσιών που προσφέρονται στην οικονομική επικράτεια του Κράτους-μέλους, για την άμεση ικανοποίηση των αναγκών των καταναλωτών. "
   ]
  },
  {
   "cell_type": "markdown",
   "id": "da6685a0",
   "metadata": {},
   "source": [
    "### Από ποιες δαπάνες υπολογίζετα ο Εν.ΔΤΚ;"
   ]
  },
  {
   "cell_type": "markdown",
   "id": "30170870",
   "metadata": {},
   "source": [
    "H γεωγραφική και πληθυσμιακή κάλυψη του Εν.ΔΤΚ κάθε Κράτους-μέλους (συνεπώς και του Εν.ΔΤΚ της Ελλάδος) συμπεριλαμβάνει: α) τις δαπάνες όλων των ιδιωτικών νοικοκυριών (ανεξάρτητα από την περιοχή στην οποία διαμένουν – αστική, ημιαστική ή αγροτική – και ανεξάρτητα με τη θέση τους, όσον αφορά στην κατανομή του εισοδήματος), β) τις δαπάνες των ξένων επισκεπτών (τουριστών) στη Χώρα και γ) τις δαπάνες των ατόμων που διαμένουν σε ιδρύματα (οικοτροφεία, οίκοι ευγηρίας, νοσοκομεία, κλπ.). Αντίθετα, εξαιρούνται της κάλυψης του Εν.ΔΤΚ ενός Κράτους-μέλους (συνεπώς και του ελληνικού Εν.ΔΤΚ) οι δαπάνες που πραγματοποιούνται για επιχειρηματικούς (επαγγελματικούς) σκοπούς, καθώς και οι δαπάνες των μόνιμων κατοίκων του Κράτους-μέλους, όταν βρίσκονται στο εξωτερικό. "
   ]
  },
  {
   "cell_type": "markdown",
   "id": "a20b1573",
   "metadata": {},
   "source": [
    "### Ο δείκτης Εν.ΔΤΚ στην Ελλάδα"
   ]
  },
  {
   "cell_type": "markdown",
   "id": "f82e3e93",
   "metadata": {},
   "source": [
    "Ο ελληνικός Εν.ΔΤΚ καλύπτει το σύνολο Χώρας. Συγκεκριμένα, καλύπτονται και οι 13 Περιφέρειες (NUTS 2) της Ελλάδος. Η συλλογή τιμών (τιμοληψία) των ειδών του Εν.ΔΤΚ διενεργείται στις ίδιες ακριβώς πόλεις της Ελλάδος (24 στον αριθμό) με εκείνες του εθνικού ΔΤΚ."
   ]
  },
  {
   "cell_type": "markdown",
   "id": "557feb9a",
   "metadata": {},
   "source": [
    "### Η ταξινόμηση των ειδών για την ανάθεση τιμής"
   ]
  },
  {
   "cell_type": "markdown",
   "id": "5d53fbaa",
   "metadata": {},
   "source": [
    "Η ταξινόμηση των ειδών (αγαθών και υπηρεσιών) που περιλαμβάνονται στον Εν.ΔΤΚ βασίζεται στη διεθνή ταξινόμηση COICOP (Classification Of Individual COnsumption by Purpose) και ιδιαίτερα, όπως αυτή έχει προσαρμοσθεί για τις ανάγκες των Εν.ΔΤΚ, δημιουργώντας την ταξινόμηση COICOP / HICP. Σύμφωνα με την εν λόγω ταξινόμηση, τα είδη που υπεισέρχονται στον υπολογισμό του Εν.ΔΤΚ ταξινομούνται σε δώδεκα (12) βασικές ομάδες, με διφήφιο κωδικό, σε τριάντα εννέα (39) ομάδες, με τριψήφιο κωδικό, και σε ενενήντα τρείς (93) υπο-ομάδες με τετραψήφιο κωδικό."
   ]
  },
  {
   "cell_type": "markdown",
   "id": "896d8207",
   "metadata": {},
   "source": [
    "### HICP Vs CPI"
   ]
  },
  {
   "cell_type": "markdown",
   "id": "f027028b",
   "metadata": {},
   "source": [
    "Η κύρια διαφορά μεταξύ του ΔΤΚ και του Εν.ΔΤΚ προέρχεται από τις διαφορετικές προσεγγίσεις(διαφορετικός συντελεστής) τους ως προς το εκμαρτό μίσθωμα (ενοίκιο). Ενώ ο εθνικός ΔΤΚ αποδίδει ένα σχετικά υψηλό βάρος στο τεκμαρτό μίσθωμα (πάνω από το 10% του καταναλωτικού καλαθιού), ο Εν.ΔΤΚ δεν λαμβάνει καθόλου υπόψη αυτό το στοιχείο. "
   ]
  },
  {
   "cell_type": "markdown",
   "id": "149c30df",
   "metadata": {},
   "source": [
    "Η παρακάτω εικόνα, απεικονίζει τα βάρη των καλαθιών των καταναλωτών του ΔΤΚ και του Εν.ΔΤΚ επί της χιλίοις.\n",
    "Διαφέρουν κυρίως στις κατηγορίες κατοικιών και τροφίμων."
   ]
  },
  {
   "cell_type": "code",
   "execution_count": 3,
   "id": "dc7ed835",
   "metadata": {},
   "outputs": [
    {
     "data": {
      "text/html": [
       "<img src=\"CPI VS HICP.jpg\" width=\"600\" height=\"700\"/>"
      ],
      "text/plain": [
       "<IPython.core.display.Image object>"
      ]
     },
     "execution_count": 3,
     "metadata": {},
     "output_type": "execute_result"
    }
   ],
   "source": [
    "from IPython.display import Image\n",
    "Image(url=\"CPI VS HICP.jpg\", width=600, height=700)"
   ]
  },
  {
   "cell_type": "code",
   "execution_count": 4,
   "id": "75673e39",
   "metadata": {
    "scrolled": true
   },
   "outputs": [
    {
     "data": {
      "text/html": [
       "<a href=\"https://www.statistics.gr/el/statistics?p_p_id=documents_WAR_publicationsportlet_INSTANCE_0qObWqzRnXSG&p_p_lifecycle=2&p_p_state=normal&p_p_mode=view&p_p_cacheability=cacheLevelPage&p_p_col_id=column-1&p_p_col_count=4&p_p_col_pos=1&_documents_WAR_publicationsportlet_INSTANCE_0qObWqzRnXSG_javax.faces.resource=document&_documents_WAR_publicationsportlet_INSTANCE_0qObWqzRnXSG_ln=downloadResources&_documents_WAR_publicationsportlet_INSTANCE_0qObWqzRnXSG_documentID=114878&_documents_WAR_publicationsportlet_INSTANCE_0qObWqzRnXSG_locale=el\">O Εναρμονισμένος Δείκτης Τιμών Καταναλωτή από το Υπουργίο Οικονομίας & Οικονομικών </a>\n"
      ],
      "text/plain": [
       "<IPython.core.display.HTML object>"
      ]
     },
     "metadata": {},
     "output_type": "display_data"
    }
   ],
   "source": [
    "%%html\n",
    "<a href=\"https://www.statistics.gr/el/statistics?p_p_id=documents_WAR_publicationsportlet_INSTANCE_0qObWqzRnXSG&p_p_lifecycle=2&p_p_state=normal&p_p_mode=view&p_p_cacheability=cacheLevelPage&p_p_col_id=column-1&p_p_col_count=4&p_p_col_pos=1&_documents_WAR_publicationsportlet_INSTANCE_0qObWqzRnXSG_javax.faces.resource=document&_documents_WAR_publicationsportlet_INSTANCE_0qObWqzRnXSG_ln=downloadResources&_documents_WAR_publicationsportlet_INSTANCE_0qObWqzRnXSG_documentID=114878&_documents_WAR_publicationsportlet_INSTANCE_0qObWqzRnXSG_locale=el\">O Εναρμονισμένος Δείκτης Τιμών Καταναλωτή από το Υπουργίο Οικονομίας & Οικονομικών </a>"
   ]
  },
  {
   "cell_type": "markdown",
   "id": "7dc9e75f",
   "metadata": {},
   "source": [
    "Για περισσότερες πληροφορίες για τον Εν.ΔΤΚ σχετικά με το βάρος του κάθε αγαθού και υπηρεσίας στην τελική τιμή του \n",
    "δείκτη και την κάλυψη των ειδών που παρέχει, επισκεφτείτε τον παραπάνω σύνδεσμο.\n"
   ]
  },
  {
   "cell_type": "markdown",
   "id": "de118a01",
   "metadata": {},
   "source": [
    "# MONTHLY HICP VALUES FOR GREECE"
   ]
  },
  {
   "cell_type": "code",
   "execution_count": 5,
   "id": "f6047c6d",
   "metadata": {},
   "outputs": [
    {
     "data": {
      "text/html": [
       "<div>\n",
       "<style scoped>\n",
       "    .dataframe tbody tr th:only-of-type {\n",
       "        vertical-align: middle;\n",
       "    }\n",
       "\n",
       "    .dataframe tbody tr th {\n",
       "        vertical-align: top;\n",
       "    }\n",
       "\n",
       "    .dataframe thead th {\n",
       "        text-align: right;\n",
       "    }\n",
       "</style>\n",
       "<table border=\"1\" class=\"dataframe\">\n",
       "  <thead>\n",
       "    <tr style=\"text-align: right;\">\n",
       "      <th></th>\n",
       "      <th>DATAFLOW</th>\n",
       "      <th>LAST UPDATE</th>\n",
       "      <th>freq</th>\n",
       "      <th>unit</th>\n",
       "      <th>coicop</th>\n",
       "      <th>geo</th>\n",
       "      <th>TIME_PERIOD</th>\n",
       "      <th>OBS_VALUE</th>\n",
       "      <th>OBS_FLAG</th>\n",
       "    </tr>\n",
       "  </thead>\n",
       "  <tbody>\n",
       "    <tr>\n",
       "      <th>0</th>\n",
       "      <td>ESTAT:PRC_HICP_MIDX(1.0)</td>\n",
       "      <td>16/09/22 11:00:00</td>\n",
       "      <td>M</td>\n",
       "      <td>I05</td>\n",
       "      <td>CP00</td>\n",
       "      <td>AT</td>\n",
       "      <td>1996-01</td>\n",
       "      <td>86.68</td>\n",
       "      <td>NaN</td>\n",
       "    </tr>\n",
       "    <tr>\n",
       "      <th>1</th>\n",
       "      <td>ESTAT:PRC_HICP_MIDX(1.0)</td>\n",
       "      <td>16/09/22 11:00:00</td>\n",
       "      <td>M</td>\n",
       "      <td>I05</td>\n",
       "      <td>CP00</td>\n",
       "      <td>AT</td>\n",
       "      <td>1996-02</td>\n",
       "      <td>86.94</td>\n",
       "      <td>NaN</td>\n",
       "    </tr>\n",
       "    <tr>\n",
       "      <th>2</th>\n",
       "      <td>ESTAT:PRC_HICP_MIDX(1.0)</td>\n",
       "      <td>16/09/22 11:00:00</td>\n",
       "      <td>M</td>\n",
       "      <td>I05</td>\n",
       "      <td>CP00</td>\n",
       "      <td>AT</td>\n",
       "      <td>1996-03</td>\n",
       "      <td>87.20</td>\n",
       "      <td>NaN</td>\n",
       "    </tr>\n",
       "    <tr>\n",
       "      <th>3</th>\n",
       "      <td>ESTAT:PRC_HICP_MIDX(1.0)</td>\n",
       "      <td>16/09/22 11:00:00</td>\n",
       "      <td>M</td>\n",
       "      <td>I05</td>\n",
       "      <td>CP00</td>\n",
       "      <td>AT</td>\n",
       "      <td>1996-04</td>\n",
       "      <td>87.11</td>\n",
       "      <td>NaN</td>\n",
       "    </tr>\n",
       "    <tr>\n",
       "      <th>4</th>\n",
       "      <td>ESTAT:PRC_HICP_MIDX(1.0)</td>\n",
       "      <td>16/09/22 11:00:00</td>\n",
       "      <td>M</td>\n",
       "      <td>I05</td>\n",
       "      <td>CP00</td>\n",
       "      <td>AT</td>\n",
       "      <td>1996-05</td>\n",
       "      <td>87.03</td>\n",
       "      <td>NaN</td>\n",
       "    </tr>\n",
       "  </tbody>\n",
       "</table>\n",
       "</div>"
      ],
      "text/plain": [
       "                   DATAFLOW        LAST UPDATE freq unit coicop geo  \\\n",
       "0  ESTAT:PRC_HICP_MIDX(1.0)  16/09/22 11:00:00    M  I05   CP00  AT   \n",
       "1  ESTAT:PRC_HICP_MIDX(1.0)  16/09/22 11:00:00    M  I05   CP00  AT   \n",
       "2  ESTAT:PRC_HICP_MIDX(1.0)  16/09/22 11:00:00    M  I05   CP00  AT   \n",
       "3  ESTAT:PRC_HICP_MIDX(1.0)  16/09/22 11:00:00    M  I05   CP00  AT   \n",
       "4  ESTAT:PRC_HICP_MIDX(1.0)  16/09/22 11:00:00    M  I05   CP00  AT   \n",
       "\n",
       "  TIME_PERIOD  OBS_VALUE OBS_FLAG  \n",
       "0     1996-01      86.68      NaN  \n",
       "1     1996-02      86.94      NaN  \n",
       "2     1996-03      87.20      NaN  \n",
       "3     1996-04      87.11      NaN  \n",
       "4     1996-05      87.03      NaN  "
      ]
     },
     "execution_count": 5,
     "metadata": {},
     "output_type": "execute_result"
    }
   ],
   "source": [
    "df= pd.read_csv('HICP - monthly data.csv')\n",
    "df.head(5)"
   ]
  },
  {
   "cell_type": "code",
   "execution_count": 6,
   "id": "c5a2ca44",
   "metadata": {},
   "outputs": [
    {
     "data": {
      "text/html": [
       "<div>\n",
       "<style scoped>\n",
       "    .dataframe tbody tr th:only-of-type {\n",
       "        vertical-align: middle;\n",
       "    }\n",
       "\n",
       "    .dataframe tbody tr th {\n",
       "        vertical-align: top;\n",
       "    }\n",
       "\n",
       "    .dataframe thead th {\n",
       "        text-align: right;\n",
       "    }\n",
       "</style>\n",
       "<table border=\"1\" class=\"dataframe\">\n",
       "  <thead>\n",
       "    <tr style=\"text-align: right;\">\n",
       "      <th></th>\n",
       "      <th>index</th>\n",
       "      <th>DATAFLOW</th>\n",
       "      <th>LAST UPDATE</th>\n",
       "      <th>freq</th>\n",
       "      <th>unit</th>\n",
       "      <th>coicop</th>\n",
       "      <th>geo</th>\n",
       "      <th>TIME_PERIOD</th>\n",
       "      <th>OBS_VALUE</th>\n",
       "      <th>OBS_FLAG</th>\n",
       "    </tr>\n",
       "  </thead>\n",
       "  <tbody>\n",
       "    <tr>\n",
       "      <th>0</th>\n",
       "      <td>2201332</td>\n",
       "      <td>ESTAT:PRC_HICP_MIDX(1.0)</td>\n",
       "      <td>16/09/22 11:00:00</td>\n",
       "      <td>M</td>\n",
       "      <td>I15</td>\n",
       "      <td>CP00</td>\n",
       "      <td>EL</td>\n",
       "      <td>1996-01</td>\n",
       "      <td>59.04</td>\n",
       "      <td>NaN</td>\n",
       "    </tr>\n",
       "    <tr>\n",
       "      <th>1</th>\n",
       "      <td>2201333</td>\n",
       "      <td>ESTAT:PRC_HICP_MIDX(1.0)</td>\n",
       "      <td>16/09/22 11:00:00</td>\n",
       "      <td>M</td>\n",
       "      <td>I15</td>\n",
       "      <td>CP00</td>\n",
       "      <td>EL</td>\n",
       "      <td>1996-02</td>\n",
       "      <td>58.92</td>\n",
       "      <td>NaN</td>\n",
       "    </tr>\n",
       "    <tr>\n",
       "      <th>2</th>\n",
       "      <td>2201334</td>\n",
       "      <td>ESTAT:PRC_HICP_MIDX(1.0)</td>\n",
       "      <td>16/09/22 11:00:00</td>\n",
       "      <td>M</td>\n",
       "      <td>I15</td>\n",
       "      <td>CP00</td>\n",
       "      <td>EL</td>\n",
       "      <td>1996-03</td>\n",
       "      <td>60.64</td>\n",
       "      <td>NaN</td>\n",
       "    </tr>\n",
       "    <tr>\n",
       "      <th>3</th>\n",
       "      <td>2201335</td>\n",
       "      <td>ESTAT:PRC_HICP_MIDX(1.0)</td>\n",
       "      <td>16/09/22 11:00:00</td>\n",
       "      <td>M</td>\n",
       "      <td>I15</td>\n",
       "      <td>CP00</td>\n",
       "      <td>EL</td>\n",
       "      <td>1996-04</td>\n",
       "      <td>61.25</td>\n",
       "      <td>NaN</td>\n",
       "    </tr>\n",
       "    <tr>\n",
       "      <th>4</th>\n",
       "      <td>2201336</td>\n",
       "      <td>ESTAT:PRC_HICP_MIDX(1.0)</td>\n",
       "      <td>16/09/22 11:00:00</td>\n",
       "      <td>M</td>\n",
       "      <td>I15</td>\n",
       "      <td>CP00</td>\n",
       "      <td>EL</td>\n",
       "      <td>1996-05</td>\n",
       "      <td>61.74</td>\n",
       "      <td>NaN</td>\n",
       "    </tr>\n",
       "    <tr>\n",
       "      <th>...</th>\n",
       "      <td>...</td>\n",
       "      <td>...</td>\n",
       "      <td>...</td>\n",
       "      <td>...</td>\n",
       "      <td>...</td>\n",
       "      <td>...</td>\n",
       "      <td>...</td>\n",
       "      <td>...</td>\n",
       "      <td>...</td>\n",
       "      <td>...</td>\n",
       "    </tr>\n",
       "    <tr>\n",
       "      <th>315</th>\n",
       "      <td>2201647</td>\n",
       "      <td>ESTAT:PRC_HICP_MIDX(1.0)</td>\n",
       "      <td>16/09/22 11:00:00</td>\n",
       "      <td>M</td>\n",
       "      <td>I15</td>\n",
       "      <td>CP00</td>\n",
       "      <td>EL</td>\n",
       "      <td>2022-04</td>\n",
       "      <td>110.55</td>\n",
       "      <td>NaN</td>\n",
       "    </tr>\n",
       "    <tr>\n",
       "      <th>316</th>\n",
       "      <td>2201648</td>\n",
       "      <td>ESTAT:PRC_HICP_MIDX(1.0)</td>\n",
       "      <td>16/09/22 11:00:00</td>\n",
       "      <td>M</td>\n",
       "      <td>I15</td>\n",
       "      <td>CP00</td>\n",
       "      <td>EL</td>\n",
       "      <td>2022-05</td>\n",
       "      <td>111.59</td>\n",
       "      <td>NaN</td>\n",
       "    </tr>\n",
       "    <tr>\n",
       "      <th>317</th>\n",
       "      <td>2201649</td>\n",
       "      <td>ESTAT:PRC_HICP_MIDX(1.0)</td>\n",
       "      <td>16/09/22 11:00:00</td>\n",
       "      <td>M</td>\n",
       "      <td>I15</td>\n",
       "      <td>CP00</td>\n",
       "      <td>EL</td>\n",
       "      <td>2022-06</td>\n",
       "      <td>114.05</td>\n",
       "      <td>NaN</td>\n",
       "    </tr>\n",
       "    <tr>\n",
       "      <th>318</th>\n",
       "      <td>2201650</td>\n",
       "      <td>ESTAT:PRC_HICP_MIDX(1.0)</td>\n",
       "      <td>16/09/22 11:00:00</td>\n",
       "      <td>M</td>\n",
       "      <td>I15</td>\n",
       "      <td>CP00</td>\n",
       "      <td>EL</td>\n",
       "      <td>2022-07</td>\n",
       "      <td>112.19</td>\n",
       "      <td>NaN</td>\n",
       "    </tr>\n",
       "    <tr>\n",
       "      <th>319</th>\n",
       "      <td>2201651</td>\n",
       "      <td>ESTAT:PRC_HICP_MIDX(1.0)</td>\n",
       "      <td>16/09/22 11:00:00</td>\n",
       "      <td>M</td>\n",
       "      <td>I15</td>\n",
       "      <td>CP00</td>\n",
       "      <td>EL</td>\n",
       "      <td>2022-08</td>\n",
       "      <td>111.98</td>\n",
       "      <td>NaN</td>\n",
       "    </tr>\n",
       "  </tbody>\n",
       "</table>\n",
       "<p>320 rows × 10 columns</p>\n",
       "</div>"
      ],
      "text/plain": [
       "       index                  DATAFLOW        LAST UPDATE freq unit coicop  \\\n",
       "0    2201332  ESTAT:PRC_HICP_MIDX(1.0)  16/09/22 11:00:00    M  I15   CP00   \n",
       "1    2201333  ESTAT:PRC_HICP_MIDX(1.0)  16/09/22 11:00:00    M  I15   CP00   \n",
       "2    2201334  ESTAT:PRC_HICP_MIDX(1.0)  16/09/22 11:00:00    M  I15   CP00   \n",
       "3    2201335  ESTAT:PRC_HICP_MIDX(1.0)  16/09/22 11:00:00    M  I15   CP00   \n",
       "4    2201336  ESTAT:PRC_HICP_MIDX(1.0)  16/09/22 11:00:00    M  I15   CP00   \n",
       "..       ...                       ...                ...  ...  ...    ...   \n",
       "315  2201647  ESTAT:PRC_HICP_MIDX(1.0)  16/09/22 11:00:00    M  I15   CP00   \n",
       "316  2201648  ESTAT:PRC_HICP_MIDX(1.0)  16/09/22 11:00:00    M  I15   CP00   \n",
       "317  2201649  ESTAT:PRC_HICP_MIDX(1.0)  16/09/22 11:00:00    M  I15   CP00   \n",
       "318  2201650  ESTAT:PRC_HICP_MIDX(1.0)  16/09/22 11:00:00    M  I15   CP00   \n",
       "319  2201651  ESTAT:PRC_HICP_MIDX(1.0)  16/09/22 11:00:00    M  I15   CP00   \n",
       "\n",
       "    geo TIME_PERIOD  OBS_VALUE OBS_FLAG  \n",
       "0    EL     1996-01      59.04      NaN  \n",
       "1    EL     1996-02      58.92      NaN  \n",
       "2    EL     1996-03      60.64      NaN  \n",
       "3    EL     1996-04      61.25      NaN  \n",
       "4    EL     1996-05      61.74      NaN  \n",
       "..   ..         ...        ...      ...  \n",
       "315  EL     2022-04     110.55      NaN  \n",
       "316  EL     2022-05     111.59      NaN  \n",
       "317  EL     2022-06     114.05      NaN  \n",
       "318  EL     2022-07     112.19      NaN  \n",
       "319  EL     2022-08     111.98      NaN  \n",
       "\n",
       "[320 rows x 10 columns]"
      ]
     },
     "execution_count": 6,
     "metadata": {},
     "output_type": "execute_result"
    }
   ],
   "source": [
    "df = df[df['geo'] == 'EL']\n",
    "df = df[df['coicop'] == 'CP00']\n",
    "df = df[df['unit'] == 'I15']\n",
    "df.reset_index(inplace=True)\n",
    "df"
   ]
  },
  {
   "cell_type": "code",
   "execution_count": 7,
   "id": "83562dbe",
   "metadata": {},
   "outputs": [
    {
     "data": {
      "text/html": [
       "<div>\n",
       "<style scoped>\n",
       "    .dataframe tbody tr th:only-of-type {\n",
       "        vertical-align: middle;\n",
       "    }\n",
       "\n",
       "    .dataframe tbody tr th {\n",
       "        vertical-align: top;\n",
       "    }\n",
       "\n",
       "    .dataframe thead th {\n",
       "        text-align: right;\n",
       "    }\n",
       "</style>\n",
       "<table border=\"1\" class=\"dataframe\">\n",
       "  <thead>\n",
       "    <tr style=\"text-align: right;\">\n",
       "      <th></th>\n",
       "      <th>TIME_PERIOD</th>\n",
       "      <th>OBS_VALUE</th>\n",
       "    </tr>\n",
       "  </thead>\n",
       "  <tbody>\n",
       "    <tr>\n",
       "      <th>0</th>\n",
       "      <td>1996-01</td>\n",
       "      <td>59.04</td>\n",
       "    </tr>\n",
       "    <tr>\n",
       "      <th>1</th>\n",
       "      <td>1996-02</td>\n",
       "      <td>58.92</td>\n",
       "    </tr>\n",
       "    <tr>\n",
       "      <th>2</th>\n",
       "      <td>1996-03</td>\n",
       "      <td>60.64</td>\n",
       "    </tr>\n",
       "    <tr>\n",
       "      <th>3</th>\n",
       "      <td>1996-04</td>\n",
       "      <td>61.25</td>\n",
       "    </tr>\n",
       "    <tr>\n",
       "      <th>4</th>\n",
       "      <td>1996-05</td>\n",
       "      <td>61.74</td>\n",
       "    </tr>\n",
       "    <tr>\n",
       "      <th>...</th>\n",
       "      <td>...</td>\n",
       "      <td>...</td>\n",
       "    </tr>\n",
       "    <tr>\n",
       "      <th>315</th>\n",
       "      <td>2022-04</td>\n",
       "      <td>110.55</td>\n",
       "    </tr>\n",
       "    <tr>\n",
       "      <th>316</th>\n",
       "      <td>2022-05</td>\n",
       "      <td>111.59</td>\n",
       "    </tr>\n",
       "    <tr>\n",
       "      <th>317</th>\n",
       "      <td>2022-06</td>\n",
       "      <td>114.05</td>\n",
       "    </tr>\n",
       "    <tr>\n",
       "      <th>318</th>\n",
       "      <td>2022-07</td>\n",
       "      <td>112.19</td>\n",
       "    </tr>\n",
       "    <tr>\n",
       "      <th>319</th>\n",
       "      <td>2022-08</td>\n",
       "      <td>111.98</td>\n",
       "    </tr>\n",
       "  </tbody>\n",
       "</table>\n",
       "<p>320 rows × 2 columns</p>\n",
       "</div>"
      ],
      "text/plain": [
       "    TIME_PERIOD  OBS_VALUE\n",
       "0       1996-01      59.04\n",
       "1       1996-02      58.92\n",
       "2       1996-03      60.64\n",
       "3       1996-04      61.25\n",
       "4       1996-05      61.74\n",
       "..          ...        ...\n",
       "315     2022-04     110.55\n",
       "316     2022-05     111.59\n",
       "317     2022-06     114.05\n",
       "318     2022-07     112.19\n",
       "319     2022-08     111.98\n",
       "\n",
       "[320 rows x 2 columns]"
      ]
     },
     "execution_count": 7,
     "metadata": {},
     "output_type": "execute_result"
    }
   ],
   "source": [
    "df.drop(['index', 'DATAFLOW', 'LAST UPDATE', 'freq', 'coicop', 'unit', 'geo', 'OBS_FLAG'], inplace=True, axis=1)\n",
    "df"
   ]
  },
  {
   "cell_type": "code",
   "execution_count": 8,
   "id": "95142db5",
   "metadata": {},
   "outputs": [],
   "source": [
    "df.rename(columns = {'TIME_PERIOD':'time'}, inplace = True)\n",
    "df['time'].replace(regex=True,inplace=True, to_replace='M',value='')\n",
    "df['time'] =  pd.to_datetime(df['time'], format='%Y%m', errors='ignore', infer_datetime_format=True)\n",
    "#df = df.set_index(['time'])"
   ]
  },
  {
   "cell_type": "code",
   "execution_count": 9,
   "id": "cc2df881",
   "metadata": {},
   "outputs": [],
   "source": [
    "df.rename(columns = {'OBS_VALUE':'value'}, inplace = True)"
   ]
  },
  {
   "cell_type": "code",
   "execution_count": 10,
   "id": "08844661",
   "metadata": {},
   "outputs": [
    {
     "data": {
      "text/html": [
       "<div>\n",
       "<style scoped>\n",
       "    .dataframe tbody tr th:only-of-type {\n",
       "        vertical-align: middle;\n",
       "    }\n",
       "\n",
       "    .dataframe tbody tr th {\n",
       "        vertical-align: top;\n",
       "    }\n",
       "\n",
       "    .dataframe thead th {\n",
       "        text-align: right;\n",
       "    }\n",
       "</style>\n",
       "<table border=\"1\" class=\"dataframe\">\n",
       "  <thead>\n",
       "    <tr style=\"text-align: right;\">\n",
       "      <th></th>\n",
       "      <th>time</th>\n",
       "      <th>value</th>\n",
       "    </tr>\n",
       "  </thead>\n",
       "  <tbody>\n",
       "    <tr>\n",
       "      <th>0</th>\n",
       "      <td>1996-01-01</td>\n",
       "      <td>59.04</td>\n",
       "    </tr>\n",
       "  </tbody>\n",
       "</table>\n",
       "</div>"
      ],
      "text/plain": [
       "        time  value\n",
       "0 1996-01-01  59.04"
      ]
     },
     "execution_count": 10,
     "metadata": {},
     "output_type": "execute_result"
    }
   ],
   "source": [
    "df[df['time'] == '1996-01-01']"
   ]
  },
  {
   "cell_type": "code",
   "execution_count": 11,
   "id": "f043865a",
   "metadata": {},
   "outputs": [
    {
     "data": {
      "text/plain": [
       "time     0\n",
       "value    0\n",
       "dtype: int64"
      ]
     },
     "execution_count": 11,
     "metadata": {},
     "output_type": "execute_result"
    }
   ],
   "source": [
    "df[pd.isnull(df['value'])].count()"
   ]
  },
  {
   "cell_type": "code",
   "execution_count": 12,
   "id": "fc62de25",
   "metadata": {},
   "outputs": [],
   "source": [
    "df = df.set_index(['time'])"
   ]
  },
  {
   "cell_type": "code",
   "execution_count": 13,
   "id": "b4872151",
   "metadata": {},
   "outputs": [
    {
     "data": {
      "text/plain": [
       "Text(0.5, 1.0, 'HICP')"
      ]
     },
     "execution_count": 13,
     "metadata": {},
     "output_type": "execute_result"
    },
    {
     "data": {
      "image/png": "[encoded data removed]",
      "text/plain": [
       "<Figure size 864x432 with 1 Axes>"
      ]
     },
     "metadata": {},
     "output_type": "display_data"
    }
   ],
   "source": [
    "rcParams['figure.figsize'] = 12, 6\n",
    "df.plot()\n",
    "plt.xlabel('Date')\n",
    "plt.ylabel('Index')\n",
    "plt.title(\"HICP\")"
   ]
  },
  {
   "cell_type": "code",
   "execution_count": 14,
   "id": "c3e6fe68",
   "metadata": {},
   "outputs": [
    {
     "name": "stdout",
     "output_type": "stream",
     "text": [
      "Is the HICP monthly value stationary ?\n",
      "p-value for value : 0.913308\n",
      "if p-value > 0.05 then the timeseries is not stationary, therefore the HICP monthly timeseries is not stationary.\n"
     ]
    }
   ],
   "source": [
    "print(\"Is the HICP monthly value stationary ?\")\n",
    "for col in df.columns:\n",
    "    result = adfuller(df[col])\n",
    "    print('p-value for ' + col + ' : %f' % result[1])\n",
    "    \n",
    "print('if p-value > 0.05 then the timeseries is not stationary, therefore the HICP monthly timeseries is not stationary.')"
   ]
  },
  {
   "cell_type": "code",
   "execution_count": 15,
   "id": "eea6bd7d",
   "metadata": {},
   "outputs": [
    {
     "data": {
      "text/html": [
       "<img src=\"stationary vs non-stationary.png\" width=\"600\" height=\"700\"/>"
      ],
      "text/plain": [
       "<IPython.core.display.Image object>"
      ]
     },
     "execution_count": 15,
     "metadata": {},
     "output_type": "execute_result"
    }
   ],
   "source": [
    "from IPython.display import Image\n",
    "Image(url=\"stationary vs non-stationary.png\", width=600, height=700)"
   ]
  },
  {
   "cell_type": "code",
   "execution_count": 16,
   "id": "711014b3",
   "metadata": {},
   "outputs": [
    {
     "data": {
      "text/html": [
       "<div>\n",
       "<style scoped>\n",
       "    .dataframe tbody tr th:only-of-type {\n",
       "        vertical-align: middle;\n",
       "    }\n",
       "\n",
       "    .dataframe tbody tr th {\n",
       "        vertical-align: top;\n",
       "    }\n",
       "\n",
       "    .dataframe thead th {\n",
       "        text-align: right;\n",
       "    }\n",
       "</style>\n",
       "<table border=\"1\" class=\"dataframe\">\n",
       "  <thead>\n",
       "    <tr style=\"text-align: right;\">\n",
       "      <th></th>\n",
       "      <th>value</th>\n",
       "    </tr>\n",
       "    <tr>\n",
       "      <th>time</th>\n",
       "      <th></th>\n",
       "    </tr>\n",
       "  </thead>\n",
       "  <tbody>\n",
       "    <tr>\n",
       "      <th>1996-01-01</th>\n",
       "      <td>59.04</td>\n",
       "    </tr>\n",
       "    <tr>\n",
       "      <th>1996-02-01</th>\n",
       "      <td>58.92</td>\n",
       "    </tr>\n",
       "    <tr>\n",
       "      <th>1996-03-01</th>\n",
       "      <td>60.64</td>\n",
       "    </tr>\n",
       "    <tr>\n",
       "      <th>1996-04-01</th>\n",
       "      <td>61.25</td>\n",
       "    </tr>\n",
       "    <tr>\n",
       "      <th>1996-05-01</th>\n",
       "      <td>61.74</td>\n",
       "    </tr>\n",
       "    <tr>\n",
       "      <th>...</th>\n",
       "      <td>...</td>\n",
       "    </tr>\n",
       "    <tr>\n",
       "      <th>2022-04-01</th>\n",
       "      <td>110.55</td>\n",
       "    </tr>\n",
       "    <tr>\n",
       "      <th>2022-05-01</th>\n",
       "      <td>111.59</td>\n",
       "    </tr>\n",
       "    <tr>\n",
       "      <th>2022-06-01</th>\n",
       "      <td>114.05</td>\n",
       "    </tr>\n",
       "    <tr>\n",
       "      <th>2022-07-01</th>\n",
       "      <td>112.19</td>\n",
       "    </tr>\n",
       "    <tr>\n",
       "      <th>2022-08-01</th>\n",
       "      <td>111.98</td>\n",
       "    </tr>\n",
       "  </tbody>\n",
       "</table>\n",
       "<p>320 rows × 1 columns</p>\n",
       "</div>"
      ],
      "text/plain": [
       "             value\n",
       "time              \n",
       "1996-01-01   59.04\n",
       "1996-02-01   58.92\n",
       "1996-03-01   60.64\n",
       "1996-04-01   61.25\n",
       "1996-05-01   61.74\n",
       "...            ...\n",
       "2022-04-01  110.55\n",
       "2022-05-01  111.59\n",
       "2022-06-01  114.05\n",
       "2022-07-01  112.19\n",
       "2022-08-01  111.98\n",
       "\n",
       "[320 rows x 1 columns]"
      ]
     },
     "execution_count": 16,
     "metadata": {},
     "output_type": "execute_result"
    }
   ],
   "source": [
    "df"
   ]
  },
  {
   "cell_type": "markdown",
   "id": "5e856339",
   "metadata": {},
   "source": [
    "# ANNUAL HICP VALUES FOR GREECE"
   ]
  },
  {
   "cell_type": "code",
   "execution_count": 17,
   "id": "a16c62fe",
   "metadata": {},
   "outputs": [
    {
     "data": {
      "text/html": [
       "<div>\n",
       "<style scoped>\n",
       "    .dataframe tbody tr th:only-of-type {\n",
       "        vertical-align: middle;\n",
       "    }\n",
       "\n",
       "    .dataframe tbody tr th {\n",
       "        vertical-align: top;\n",
       "    }\n",
       "\n",
       "    .dataframe thead th {\n",
       "        text-align: right;\n",
       "    }\n",
       "</style>\n",
       "<table border=\"1\" class=\"dataframe\">\n",
       "  <thead>\n",
       "    <tr style=\"text-align: right;\">\n",
       "      <th></th>\n",
       "      <th>DATAFLOW</th>\n",
       "      <th>LAST UPDATE</th>\n",
       "      <th>freq</th>\n",
       "      <th>unit</th>\n",
       "      <th>coicop</th>\n",
       "      <th>geo</th>\n",
       "      <th>TIME_PERIOD</th>\n",
       "      <th>OBS_VALUE</th>\n",
       "      <th>OBS_FLAG</th>\n",
       "    </tr>\n",
       "  </thead>\n",
       "  <tbody>\n",
       "    <tr>\n",
       "      <th>0</th>\n",
       "      <td>ESTAT:PRC_HICP_AIND(1.0)</td>\n",
       "      <td>16/09/22 11:00:00</td>\n",
       "      <td>A</td>\n",
       "      <td>INX_A_AVG</td>\n",
       "      <td>AP</td>\n",
       "      <td>AT</td>\n",
       "      <td>2002</td>\n",
       "      <td>73.64</td>\n",
       "      <td>NaN</td>\n",
       "    </tr>\n",
       "    <tr>\n",
       "      <th>1</th>\n",
       "      <td>ESTAT:PRC_HICP_AIND(1.0)</td>\n",
       "      <td>16/09/22 11:00:00</td>\n",
       "      <td>A</td>\n",
       "      <td>INX_A_AVG</td>\n",
       "      <td>AP</td>\n",
       "      <td>AT</td>\n",
       "      <td>2003</td>\n",
       "      <td>75.24</td>\n",
       "      <td>NaN</td>\n",
       "    </tr>\n",
       "    <tr>\n",
       "      <th>2</th>\n",
       "      <td>ESTAT:PRC_HICP_AIND(1.0)</td>\n",
       "      <td>16/09/22 11:00:00</td>\n",
       "      <td>A</td>\n",
       "      <td>INX_A_AVG</td>\n",
       "      <td>AP</td>\n",
       "      <td>AT</td>\n",
       "      <td>2004</td>\n",
       "      <td>77.05</td>\n",
       "      <td>NaN</td>\n",
       "    </tr>\n",
       "    <tr>\n",
       "      <th>3</th>\n",
       "      <td>ESTAT:PRC_HICP_AIND(1.0)</td>\n",
       "      <td>16/09/22 11:00:00</td>\n",
       "      <td>A</td>\n",
       "      <td>INX_A_AVG</td>\n",
       "      <td>AP</td>\n",
       "      <td>AT</td>\n",
       "      <td>2005</td>\n",
       "      <td>79.55</td>\n",
       "      <td>NaN</td>\n",
       "    </tr>\n",
       "    <tr>\n",
       "      <th>4</th>\n",
       "      <td>ESTAT:PRC_HICP_AIND(1.0)</td>\n",
       "      <td>16/09/22 11:00:00</td>\n",
       "      <td>A</td>\n",
       "      <td>INX_A_AVG</td>\n",
       "      <td>AP</td>\n",
       "      <td>AT</td>\n",
       "      <td>2006</td>\n",
       "      <td>81.52</td>\n",
       "      <td>NaN</td>\n",
       "    </tr>\n",
       "  </tbody>\n",
       "</table>\n",
       "</div>"
      ],
      "text/plain": [
       "                   DATAFLOW        LAST UPDATE freq       unit coicop geo  \\\n",
       "0  ESTAT:PRC_HICP_AIND(1.0)  16/09/22 11:00:00    A  INX_A_AVG     AP  AT   \n",
       "1  ESTAT:PRC_HICP_AIND(1.0)  16/09/22 11:00:00    A  INX_A_AVG     AP  AT   \n",
       "2  ESTAT:PRC_HICP_AIND(1.0)  16/09/22 11:00:00    A  INX_A_AVG     AP  AT   \n",
       "3  ESTAT:PRC_HICP_AIND(1.0)  16/09/22 11:00:00    A  INX_A_AVG     AP  AT   \n",
       "4  ESTAT:PRC_HICP_AIND(1.0)  16/09/22 11:00:00    A  INX_A_AVG     AP  AT   \n",
       "\n",
       "   TIME_PERIOD  OBS_VALUE OBS_FLAG  \n",
       "0         2002      73.64      NaN  \n",
       "1         2003      75.24      NaN  \n",
       "2         2004      77.05      NaN  \n",
       "3         2005      79.55      NaN  \n",
       "4         2006      81.52      NaN  "
      ]
     },
     "execution_count": 17,
     "metadata": {},
     "output_type": "execute_result"
    }
   ],
   "source": [
    "df= pd.read_csv('HICP - annual data.csv')\n",
    "df.head(5)"
   ]
  },
  {
   "cell_type": "code",
   "execution_count": 18,
   "id": "08f81f90",
   "metadata": {},
   "outputs": [
    {
     "data": {
      "text/html": [
       "<div>\n",
       "<style scoped>\n",
       "    .dataframe tbody tr th:only-of-type {\n",
       "        vertical-align: middle;\n",
       "    }\n",
       "\n",
       "    .dataframe tbody tr th {\n",
       "        vertical-align: top;\n",
       "    }\n",
       "\n",
       "    .dataframe thead th {\n",
       "        text-align: right;\n",
       "    }\n",
       "</style>\n",
       "<table border=\"1\" class=\"dataframe\">\n",
       "  <thead>\n",
       "    <tr style=\"text-align: right;\">\n",
       "      <th></th>\n",
       "      <th>index</th>\n",
       "      <th>DATAFLOW</th>\n",
       "      <th>LAST UPDATE</th>\n",
       "      <th>freq</th>\n",
       "      <th>unit</th>\n",
       "      <th>coicop</th>\n",
       "      <th>geo</th>\n",
       "      <th>TIME_PERIOD</th>\n",
       "      <th>OBS_VALUE</th>\n",
       "      <th>OBS_FLAG</th>\n",
       "    </tr>\n",
       "  </thead>\n",
       "  <tbody>\n",
       "    <tr>\n",
       "      <th>0</th>\n",
       "      <td>3798</td>\n",
       "      <td>ESTAT:PRC_HICP_AIND(1.0)</td>\n",
       "      <td>16/09/22 11:00:00</td>\n",
       "      <td>A</td>\n",
       "      <td>INX_A_AVG</td>\n",
       "      <td>CP00</td>\n",
       "      <td>EL</td>\n",
       "      <td>1996</td>\n",
       "      <td>61.31</td>\n",
       "      <td>NaN</td>\n",
       "    </tr>\n",
       "    <tr>\n",
       "      <th>1</th>\n",
       "      <td>3799</td>\n",
       "      <td>ESTAT:PRC_HICP_AIND(1.0)</td>\n",
       "      <td>16/09/22 11:00:00</td>\n",
       "      <td>A</td>\n",
       "      <td>INX_A_AVG</td>\n",
       "      <td>CP00</td>\n",
       "      <td>EL</td>\n",
       "      <td>1997</td>\n",
       "      <td>64.64</td>\n",
       "      <td>NaN</td>\n",
       "    </tr>\n",
       "    <tr>\n",
       "      <th>2</th>\n",
       "      <td>3800</td>\n",
       "      <td>ESTAT:PRC_HICP_AIND(1.0)</td>\n",
       "      <td>16/09/22 11:00:00</td>\n",
       "      <td>A</td>\n",
       "      <td>INX_A_AVG</td>\n",
       "      <td>CP00</td>\n",
       "      <td>EL</td>\n",
       "      <td>1998</td>\n",
       "      <td>67.56</td>\n",
       "      <td>NaN</td>\n",
       "    </tr>\n",
       "    <tr>\n",
       "      <th>3</th>\n",
       "      <td>3801</td>\n",
       "      <td>ESTAT:PRC_HICP_AIND(1.0)</td>\n",
       "      <td>16/09/22 11:00:00</td>\n",
       "      <td>A</td>\n",
       "      <td>INX_A_AVG</td>\n",
       "      <td>CP00</td>\n",
       "      <td>EL</td>\n",
       "      <td>1999</td>\n",
       "      <td>69.01</td>\n",
       "      <td>NaN</td>\n",
       "    </tr>\n",
       "    <tr>\n",
       "      <th>4</th>\n",
       "      <td>3802</td>\n",
       "      <td>ESTAT:PRC_HICP_AIND(1.0)</td>\n",
       "      <td>16/09/22 11:00:00</td>\n",
       "      <td>A</td>\n",
       "      <td>INX_A_AVG</td>\n",
       "      <td>CP00</td>\n",
       "      <td>EL</td>\n",
       "      <td>2000</td>\n",
       "      <td>71.01</td>\n",
       "      <td>NaN</td>\n",
       "    </tr>\n",
       "  </tbody>\n",
       "</table>\n",
       "</div>"
      ],
      "text/plain": [
       "   index                  DATAFLOW        LAST UPDATE freq       unit coicop  \\\n",
       "0   3798  ESTAT:PRC_HICP_AIND(1.0)  16/09/22 11:00:00    A  INX_A_AVG   CP00   \n",
       "1   3799  ESTAT:PRC_HICP_AIND(1.0)  16/09/22 11:00:00    A  INX_A_AVG   CP00   \n",
       "2   3800  ESTAT:PRC_HICP_AIND(1.0)  16/09/22 11:00:00    A  INX_A_AVG   CP00   \n",
       "3   3801  ESTAT:PRC_HICP_AIND(1.0)  16/09/22 11:00:00    A  INX_A_AVG   CP00   \n",
       "4   3802  ESTAT:PRC_HICP_AIND(1.0)  16/09/22 11:00:00    A  INX_A_AVG   CP00   \n",
       "\n",
       "  geo  TIME_PERIOD  OBS_VALUE OBS_FLAG  \n",
       "0  EL         1996      61.31      NaN  \n",
       "1  EL         1997      64.64      NaN  \n",
       "2  EL         1998      67.56      NaN  \n",
       "3  EL         1999      69.01      NaN  \n",
       "4  EL         2000      71.01      NaN  "
      ]
     },
     "execution_count": 18,
     "metadata": {},
     "output_type": "execute_result"
    }
   ],
   "source": [
    "df = df[df['geo'] == 'EL'] # EL αντιπροσωπεύει την Ελλάδα\n",
    "df = df[df['coicop'] == 'CP00'] # CP00 αντιπροσωπεύει όλες τις τιμές των  δεικτών HICP για όλα τα προϊόντα\n",
    "df = df[df['unit'] == 'INX_A_AVG'] # INX_A_AVG είναι ο μ΄έσος όρος των τιμών του δείκτη HICP για ένα έτος\n",
    "df.reset_index(inplace=True)\n",
    "df.head()"
   ]
  },
  {
   "cell_type": "code",
   "execution_count": 19,
   "id": "78f8774b",
   "metadata": {},
   "outputs": [
    {
     "data": {
      "text/html": [
       "<div>\n",
       "<style scoped>\n",
       "    .dataframe tbody tr th:only-of-type {\n",
       "        vertical-align: middle;\n",
       "    }\n",
       "\n",
       "    .dataframe tbody tr th {\n",
       "        vertical-align: top;\n",
       "    }\n",
       "\n",
       "    .dataframe thead th {\n",
       "        text-align: right;\n",
       "    }\n",
       "</style>\n",
       "<table border=\"1\" class=\"dataframe\">\n",
       "  <thead>\n",
       "    <tr style=\"text-align: right;\">\n",
       "      <th></th>\n",
       "      <th>TIME_PERIOD</th>\n",
       "      <th>OBS_VALUE</th>\n",
       "    </tr>\n",
       "  </thead>\n",
       "  <tbody>\n",
       "    <tr>\n",
       "      <th>0</th>\n",
       "      <td>1996</td>\n",
       "      <td>61.31</td>\n",
       "    </tr>\n",
       "    <tr>\n",
       "      <th>1</th>\n",
       "      <td>1997</td>\n",
       "      <td>64.64</td>\n",
       "    </tr>\n",
       "    <tr>\n",
       "      <th>2</th>\n",
       "      <td>1998</td>\n",
       "      <td>67.56</td>\n",
       "    </tr>\n",
       "    <tr>\n",
       "      <th>3</th>\n",
       "      <td>1999</td>\n",
       "      <td>69.01</td>\n",
       "    </tr>\n",
       "    <tr>\n",
       "      <th>4</th>\n",
       "      <td>2000</td>\n",
       "      <td>71.01</td>\n",
       "    </tr>\n",
       "  </tbody>\n",
       "</table>\n",
       "</div>"
      ],
      "text/plain": [
       "   TIME_PERIOD  OBS_VALUE\n",
       "0         1996      61.31\n",
       "1         1997      64.64\n",
       "2         1998      67.56\n",
       "3         1999      69.01\n",
       "4         2000      71.01"
      ]
     },
     "execution_count": 19,
     "metadata": {},
     "output_type": "execute_result"
    }
   ],
   "source": [
    "df.drop(['index', 'DATAFLOW', 'LAST UPDATE', 'freq', 'coicop', 'unit', 'geo', 'OBS_FLAG'], inplace=True, axis=1)\n",
    "df.head()"
   ]
  },
  {
   "cell_type": "code",
   "execution_count": 20,
   "id": "0c4af641",
   "metadata": {},
   "outputs": [],
   "source": [
    "df.rename(columns = {'TIME_PERIOD':'time'}, inplace = True)\n",
    "df['time'].replace(regex=True,inplace=True, to_replace='M',value='')"
   ]
  },
  {
   "cell_type": "code",
   "execution_count": 21,
   "id": "d101aa3e",
   "metadata": {},
   "outputs": [],
   "source": [
    "df.rename(columns = {'OBS_VALUE':'value'}, inplace = True)"
   ]
  },
  {
   "cell_type": "code",
   "execution_count": 22,
   "id": "a22841d0",
   "metadata": {},
   "outputs": [
    {
     "data": {
      "text/plain": [
       "time     0\n",
       "value    0\n",
       "dtype: int64"
      ]
     },
     "execution_count": 22,
     "metadata": {},
     "output_type": "execute_result"
    }
   ],
   "source": [
    "df[pd.isnull(df['value'])].count()"
   ]
  },
  {
   "cell_type": "code",
   "execution_count": 23,
   "id": "b2243959",
   "metadata": {},
   "outputs": [],
   "source": [
    "df = df.set_index(['time'])"
   ]
  },
  {
   "cell_type": "code",
   "execution_count": 24,
   "id": "1265f55e",
   "metadata": {},
   "outputs": [
    {
     "data": {
      "text/plain": [
       "Text(0.5, 1.0, 'HICP')"
      ]
     },
     "execution_count": 24,
     "metadata": {},
     "output_type": "execute_result"
    },
    {
     "data": {
      "image/png": "[encoded data removed]",
      "text/plain": [
       "<Figure size 864x432 with 1 Axes>"
      ]
     },
     "metadata": {},
     "output_type": "display_data"
    }
   ],
   "source": [
    "rcParams['figure.figsize'] = 12, 6\n",
    "df.plot()\n",
    "plt.xlabel('Date')\n",
    "plt.ylabel('Index')\n",
    "plt.title(\"HICP\")"
   ]
  },
  {
   "cell_type": "code",
   "execution_count": 25,
   "id": "87745755",
   "metadata": {},
   "outputs": [
    {
     "name": "stdout",
     "output_type": "stream",
     "text": [
      "Is the HICP yearly value stationary ?\n",
      "p-value for value : 0.372916\n",
      "if p-value > 0.05 then the timeseries is not stationary, therefore the HICP annual timeseries is not stationary.\n"
     ]
    }
   ],
   "source": [
    "print(\"Is the HICP yearly value stationary ?\")\n",
    "for col in df.columns:\n",
    "    result = adfuller(df[col])\n",
    "    print('p-value for ' + col + ' : %f' % result[1])\n",
    "    \n",
    "print('if p-value > 0.05 then the timeseries is not stationary, therefore the HICP annual timeseries is not stationary.')"
   ]
  }
 ],
 "metadata": {
  "kernelspec": {
   "display_name": "Python 3 (ipykernel)",
   "language": "python",
   "name": "python3"
  },
  "language_info": {
   "codemirror_mode": {
    "name": "ipython",
    "version": 3
   },
   "file_extension": ".py",
   "mimetype": "text/x-python",
   "name": "python",
   "nbconvert_exporter": "python",
   "pygments_lexer": "ipython3",
   "version": "3.9.7"
  },
  "latex_envs": {
   "LaTeX_envs_menu_present": true,
   "autoclose": false,
   "autocomplete": true,
   "bibliofile": "biblio.bib",
   "cite_by": "apalike",
   "current_citInitial": 1,
   "eqLabelWithNumbers": true,
   "eqNumInitial": 1,
   "hotkeys": {
    "equation": "Ctrl-E",
    "itemize": "Ctrl-I"
   },
   "labels_anchors": false,
   "latex_user_defs": false,
   "report_style_numbering": false,
   "user_envs_cfg": false
  }
 },
 "nbformat": 4,
 "nbformat_minor": 5
}
